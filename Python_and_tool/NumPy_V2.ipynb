{
 "cells": [
  {
   "cell_type": "code",
   "execution_count": 1,
   "id": "b2066208-21c0-4c4a-9849-8ac9033db755",
   "metadata": {},
   "outputs": [
    {
     "name": "stdout",
     "output_type": "stream",
     "text": [
      "[[1 2]\n",
      " [3 4]]\n",
      "dtype of matrix A: int32\n",
      "[[1. 2.]\n",
      " [3. 4.]]\n",
      "type of matrix B: float64\n"
     ]
    }
   ],
   "source": [
    "#Khởi tạo ngay từ đầu\n",
    "\n",
    "#int\n",
    "import numpy as np\n",
    "A = np.array([[1,2],\n",
    "             [3,4]])\n",
    "\n",
    "print(A)\n",
    "print(\"dtype of matrix A:\", A.dtype)\n",
    "\n",
    "\n",
    "#float\n",
    "\n",
    "B = np.array([[1,2],\n",
    "            [3,4]], dtype = np.float)\n",
    "print(B)\n",
    "print('type of matrix B:', B.dtype)"
   ]
  },
  {
   "cell_type": "code",
   "execution_count": 2,
   "id": "a520f743-c053-4c11-956d-61b03554b6b3",
   "metadata": {},
   "outputs": [
    {
     "name": "stdout",
     "output_type": "stream",
     "text": [
      "float32\n"
     ]
    }
   ],
   "source": [
    "#Ngoài cách thay đổi trên, định dạng của ma trận cũng có thể được biến đổi thông qua hàm A.astype().\n",
    "#Đây là một hàm thuộc tính có sẵn ở mỗi mảng.\n",
    "\n",
    "A = A.astype(np.float32)\n",
    "print(A.dtype)"
   ]
  },
  {
   "cell_type": "code",
   "execution_count": 3,
   "id": "acb850dc-7dab-4bb1-b199-aa46de0d1194",
   "metadata": {},
   "outputs": [
    {
     "name": "stdout",
     "output_type": "stream",
     "text": [
      "[[ 0.56534797  0.59557002  0.21971696]\n",
      " [ 1.14462703 -1.72305337 -1.28290879]]\n"
     ]
    }
   ],
   "source": [
    "#Khởi tạo ngẫu nhiên\n",
    "\n",
    "R = np.random.randn(2,3)\n",
    "print(R)"
   ]
  },
  {
   "cell_type": "code",
   "execution_count": 4,
   "id": "511958aa-6217-4b7b-9502-e319e50c9bc1",
   "metadata": {},
   "outputs": [
    {
     "data": {
      "text/plain": [
       "array([[-0.17848808,  0.93023787,  3.73902155],\n",
       "       [-0.64094988,  0.76215568,  1.16284118]])"
      ]
     },
     "execution_count": 4,
     "metadata": {},
     "output_type": "execute_result"
    }
   ],
   "source": [
    "# khoi tao Gaussian distribution\n",
    "\n",
    "R = np.random.normal(loc = 1, scale = 2, size = (2,3))\n",
    "R\n",
    "# trung bình chính là loc\n",
    "# phương sai là scale"
   ]
  },
  {
   "cell_type": "code",
   "execution_count": 5,
   "id": "9a6d6af4-1735-46ae-9ca8-48ac2052c01a",
   "metadata": {},
   "outputs": [],
   "source": [
    "#np.random.uniform(low=0.0, high=1.0, size=None)\n",
    "#Các phần tử sẽ được khởi tạo theo phân phối đều trong khoảng từ low -> hight"
   ]
  },
  {
   "cell_type": "code",
   "execution_count": 6,
   "id": "ca56d157-1f77-420b-a764-8e9b1bfca65e",
   "metadata": {},
   "outputs": [
    {
     "name": "stdout",
     "output_type": "stream",
     "text": [
      "[[-0.82900933 -0.28521114  0.38875745]\n",
      " [-0.17362453  0.48790364  0.2370422 ]]\n"
     ]
    }
   ],
   "source": [
    "R = np.random.uniform(low=-1, high=1, size=(2, 3))\n",
    "print(R)"
   ]
  },
  {
   "cell_type": "code",
   "execution_count": 7,
   "id": "2021d3c0-bc46-4a7b-9173-276a5750ee4e",
   "metadata": {},
   "outputs": [
    {
     "name": "stdout",
     "output_type": "stream",
     "text": [
      "[[ 3  4 -3]\n",
      " [-2  0 -4]]\n"
     ]
    }
   ],
   "source": [
    "#Trong trường hợp bạn chỉ muốn sinh ngẫu nhiên đối với số nguyên thì có thể sử dụng hàm np.randint()\n",
    "R = np.random.randint(low=-5, high=5, size=(2, 3))\n",
    "print(R)"
   ]
  },
  {
   "cell_type": "code",
   "execution_count": 8,
   "id": "8fcf86b4-b2d9-472d-9734-0d56803c2255",
   "metadata": {},
   "outputs": [],
   "source": [
    "\n",
    "\n",
    "\n",
    "\n",
    "\n",
    "\n",
    "\n",
    "\n",
    "#Đọc và save numpy từ file"
   ]
  },
  {
   "cell_type": "code",
   "execution_count": 9,
   "id": "08bec171-a33e-49f2-af5f-319b530da1e3",
   "metadata": {},
   "outputs": [
    {
     "data": {
      "text/plain": [
       "array([[-1.47334681,  0.64373172, -0.92774032],\n",
       "       [ 1.09270285,  0.5169213 ,  0.07216077],\n",
       "       [ 1.23105255, -1.77044164,  0.50784237]])"
      ]
     },
     "execution_count": 9,
     "metadata": {},
     "output_type": "execute_result"
    }
   ],
   "source": [
    "import numpy as np\n",
    "\n",
    "# Khởi tạo một mảng ngẫu nhiên A\n",
    "A = np.random.randn(3, 3)\n",
    "A"
   ]
  },
  {
   "cell_type": "code",
   "execution_count": 10,
   "id": "c34a69c1-8355-4158-91c9-7abb1b712ce9",
   "metadata": {},
   "outputs": [],
   "source": [
    "#  np.save(file, arr): Output là định dạng npy. Save được mọi tensor với số chiều tuỳ ý.\n",
    "#np.savetxt(file, arr): Output là định dạng txt. Cách này ít phổ biến hơn vì ta chỉ save được mảng 1D và 2D\n",
    "\n",
    "# Định dạng npy\n",
    "np.save('A', A)\n",
    "# Định dạng txt\n",
    "np.savetxt('A.txt', A)"
   ]
  },
  {
   "cell_type": "code",
   "execution_count": 11,
   "id": "d85ddffa-c0a3-4bf3-ab17-e19985b39407",
   "metadata": {},
   "outputs": [
    {
     "name": "stdout",
     "output_type": "stream",
     "text": [
      "[[-1.47334681  0.64373172 -0.92774032]\n",
      " [ 1.09270285  0.5169213   0.07216077]\n",
      " [ 1.23105255 -1.77044164  0.50784237]]\n"
     ]
    }
   ],
   "source": [
    "# Load numpy từ file\n",
    "A = np.load('A.npy')\n",
    "print(A)"
   ]
  },
  {
   "cell_type": "code",
   "execution_count": 12,
   "id": "f0dc511e-bf26-4754-8510-f48ce1b4cbb3",
   "metadata": {},
   "outputs": [
    {
     "name": "stdout",
     "output_type": "stream",
     "text": [
      "[[-1.47334681  0.64373172 -0.92774032]\n",
      " [ 1.09270285  0.5169213   0.07216077]\n",
      " [ 1.23105255 -1.77044164  0.50784237]]\n"
     ]
    }
   ],
   "source": [
    "A = np.loadtxt('A.txt')\n",
    "print(A)"
   ]
  },
  {
   "cell_type": "code",
   "execution_count": 13,
   "id": "94513990-48e0-46e7-babe-75f0cbb87f49",
   "metadata": {},
   "outputs": [],
   "source": [
    "#convert mảng từ dataframe\n"
   ]
  },
  {
   "cell_type": "code",
   "execution_count": 14,
   "id": "d360db7f-ce44-4bdf-b5db-40e745f9569b",
   "metadata": {},
   "outputs": [
    {
     "data": {
      "text/html": [
       "<div>\n",
       "<style scoped>\n",
       "    .dataframe tbody tr th:only-of-type {\n",
       "        vertical-align: middle;\n",
       "    }\n",
       "\n",
       "    .dataframe tbody tr th {\n",
       "        vertical-align: top;\n",
       "    }\n",
       "\n",
       "    .dataframe thead th {\n",
       "        text-align: right;\n",
       "    }\n",
       "</style>\n",
       "<table border=\"1\" class=\"dataframe\">\n",
       "  <thead>\n",
       "    <tr style=\"text-align: right;\">\n",
       "      <th></th>\n",
       "      <th>0</th>\n",
       "      <th>1</th>\n",
       "      <th>2</th>\n",
       "    </tr>\n",
       "  </thead>\n",
       "  <tbody>\n",
       "    <tr>\n",
       "      <th>0</th>\n",
       "      <td>-1.473347</td>\n",
       "      <td>0.643732</td>\n",
       "      <td>-0.927740</td>\n",
       "    </tr>\n",
       "    <tr>\n",
       "      <th>1</th>\n",
       "      <td>1.092703</td>\n",
       "      <td>0.516921</td>\n",
       "      <td>0.072161</td>\n",
       "    </tr>\n",
       "    <tr>\n",
       "      <th>2</th>\n",
       "      <td>1.231053</td>\n",
       "      <td>-1.770442</td>\n",
       "      <td>0.507842</td>\n",
       "    </tr>\n",
       "  </tbody>\n",
       "</table>\n",
       "</div>"
      ],
      "text/plain": [
       "          0         1         2\n",
       "0 -1.473347  0.643732 -0.927740\n",
       "1  1.092703  0.516921  0.072161\n",
       "2  1.231053 -1.770442  0.507842"
      ]
     },
     "execution_count": 14,
     "metadata": {},
     "output_type": "execute_result"
    }
   ],
   "source": [
    "import pandas as pd\n",
    "df = pd.read_csv(\"A.txt\", header=None, sep=\" \")\n",
    "df"
   ]
  },
  {
   "cell_type": "code",
   "execution_count": 15,
   "id": "b4fc154d-2ea1-4597-92d5-4af94d00729f",
   "metadata": {},
   "outputs": [
    {
     "name": "stdout",
     "output_type": "stream",
     "text": [
      "[[-1.47334681  0.64373172 -0.92774032]\n",
      " [ 1.09270285  0.5169213   0.07216077]\n",
      " [ 1.23105255 -1.77044164  0.50784237]]\n"
     ]
    }
   ],
   "source": [
    "A = df.values\n",
    "print(A)"
   ]
  },
  {
   "cell_type": "code",
   "execution_count": null,
   "id": "8041030c-03c8-47f4-a54d-d5d52b002ecd",
   "metadata": {},
   "outputs": [],
   "source": []
  },
  {
   "cell_type": "code",
   "execution_count": 16,
   "id": "9b05e958-237f-40c6-b0d5-78dff5e0dd3d",
   "metadata": {},
   "outputs": [],
   "source": [
    "#Thay đổi shape của mảng\n",
    "\n",
    "\n",
    "\n"
   ]
  },
  {
   "cell_type": "code",
   "execution_count": 17,
   "id": "f0057044-6035-40f0-8b86-2b7340bac0a5",
   "metadata": {},
   "outputs": [
    {
     "name": "stdout",
     "output_type": "stream",
     "text": [
      "B: \n",
      " [ 0  1  2  3  4  5  6  7  8  9 10 11]\n",
      "B.shape:  (12,)\n"
     ]
    }
   ],
   "source": [
    "B = np.array(np.arange(12))\n",
    "print(\"B: \\n\", B)\n",
    "print(\"B.shape: \", B.shape)"
   ]
  },
  {
   "cell_type": "code",
   "execution_count": 18,
   "id": "d7411666-51d2-4a00-8340-4ea7d6fba398",
   "metadata": {},
   "outputs": [
    {
     "data": {
      "text/plain": [
       "array([[ 0,  1,  2,  3,  4,  5],\n",
       "       [ 6,  7,  8,  9, 10, 11]])"
      ]
     },
     "execution_count": 18,
     "metadata": {},
     "output_type": "execute_result"
    }
   ],
   "source": [
    "B.reshape(2,6)"
   ]
  },
  {
   "cell_type": "code",
   "execution_count": 19,
   "id": "7c08e97f-7124-4984-ab20-b5250a716ba9",
   "metadata": {},
   "outputs": [
    {
     "data": {
      "text/plain": [
       "array([[ 0,  1,  2,  3,  4,  5],\n",
       "       [ 6,  7,  8,  9, 10, 11]])"
      ]
     },
     "execution_count": 19,
     "metadata": {},
     "output_type": "execute_result"
    }
   ],
   "source": [
    "np.reshape(B,(2,6))"
   ]
  },
  {
   "cell_type": "code",
   "execution_count": 20,
   "id": "2704cbc1-989f-42c2-b4c8-7f39db4b2d58",
   "metadata": {},
   "outputs": [
    {
     "data": {
      "text/plain": [
       "array([[ 0,  1,  2,  3,  4,  5],\n",
       "       [ 6,  7,  8,  9, 10, 11]])"
      ]
     },
     "execution_count": 20,
     "metadata": {},
     "output_type": "execute_result"
    }
   ],
   "source": [
    "#Trong một mảng có n chiều, khi đã biết n−1 chiều thì chiều còn lại có thể tính ra được bằng cách chia tổng số phần tử cho tích của n−1 chiều.\n",
    "#Do đó chúng ta có thể đánh dấu chiều chưa biết bằng -1 để numpy sẽ tự tính.\n",
    "\n",
    "B.reshape(2, -1)"
   ]
  },
  {
   "cell_type": "code",
   "execution_count": 21,
   "id": "d9aeb998-3910-4c19-a10a-d9a7ba5b5747",
   "metadata": {},
   "outputs": [],
   "source": [
    "\n",
    "\n",
    "\n",
    "#Chuyển vị các chiều\n",
    "\n",
    "#batch_size x width x height x channels   (tensorflow)\n",
    "#batch_size x channels x width x height (pytorch)"
   ]
  },
  {
   "cell_type": "code",
   "execution_count": 22,
   "id": "460af757-8172-4d06-98a8-a572f1c50653",
   "metadata": {},
   "outputs": [
    {
     "name": "stdout",
     "output_type": "stream",
     "text": [
      "A.shape (3, 28, 28)\n"
     ]
    }
   ],
   "source": [
    "A = np.random.randint(0,255, size = (3,28,28))\n",
    "print(\"A.shape\", A.shape)"
   ]
  },
  {
   "cell_type": "code",
   "execution_count": 23,
   "id": "a0bd7ba5-ab61-4a1b-879b-3e7c1472ced1",
   "metadata": {},
   "outputs": [
    {
     "data": {
      "text/plain": [
       "(28, 28, 3)"
      ]
     },
     "execution_count": 23,
     "metadata": {},
     "output_type": "execute_result"
    }
   ],
   "source": [
    "A = np.transpose(A,(1,2,0))\n",
    "A.shape"
   ]
  },
  {
   "cell_type": "code",
   "execution_count": 24,
   "id": "00bb4f55-b1a4-4cbb-bf27-4d2b964acd9b",
   "metadata": {},
   "outputs": [],
   "source": [
    "#Concatenate và Stack hai mảng\n",
    "\n",
    "#Giả sử bạn đang có rất nhiều bức ảnh khác nhau.\n",
    "#Bạn muốn ghép các bức ảnh đó theo chiều height (một bức nằm trái và một bức nằm phải). \n",
    "#Để thực hiện được điều này thì bạn cần tới câu lệnh concatenate.\n",
    "\n",
    "\n",
    "\n",
    "\n",
    "\n",
    "\n",
    "    "
   ]
  },
  {
   "cell_type": "code",
   "execution_count": 25,
   "id": "ea17cc0c-ef49-4f29-a1a8-6c4bf9cb1101",
   "metadata": {},
   "outputs": [
    {
     "name": "stdout",
     "output_type": "stream",
     "text": [
      "(28, 28, 3)\n",
      "(28, 28, 3)\n",
      "(28, 56, 3)\n"
     ]
    }
   ],
   "source": [
    "A = np.random.randint(0,255, size = (28,28,3))\n",
    "B = np.random.randint(0,255, size = (28,28,3))\n",
    "\n",
    "print(A.shape)\n",
    "print(B.shape)\n",
    "\n",
    "AB = np.concatenate((A,B),axis = 1)\n",
    "print(AB.shape)"
   ]
  },
  {
   "cell_type": "code",
   "execution_count": 26,
   "id": "bdcf1c73-83d6-4c0e-b0bd-70557ef02906",
   "metadata": {},
   "outputs": [
    {
     "data": {
      "text/plain": [
       "(2, 28, 28, 3)"
      ]
     },
     "execution_count": 26,
     "metadata": {},
     "output_type": "execute_result"
    }
   ],
   "source": [
    "#Ngoài ra muốn tạo một batch cho huấn luyện,\n",
    "#trong batch đó gồm 2 ảnh là A và B thì chúng ta sử dụng câu lệnh stack.\n",
    "\n",
    "np.stack([A,B]).shape"
   ]
  },
  {
   "cell_type": "code",
   "execution_count": 27,
   "id": "df9b21b1-71f2-46f1-97eb-5fd2a3c0abc6",
   "metadata": {},
   "outputs": [
    {
     "name": "stdout",
     "output_type": "stream",
     "text": [
      "(56, 28, 3)\n",
      "(28, 56, 3)\n"
     ]
    }
   ],
   "source": [
    "# Stack theo chiều vertical\n",
    "print(np.vstack([A, B]).shape)\n",
    "\n",
    "# Stack theo chiều horizontal\n",
    "print(np.hstack([A, B]).shape)"
   ]
  },
  {
   "cell_type": "code",
   "execution_count": null,
   "id": "2cc2d79d-c274-4df0-bb64-197349f40178",
   "metadata": {},
   "outputs": [],
   "source": []
  },
  {
   "cell_type": "code",
   "execution_count": 28,
   "id": "ff4d4333-a39f-4bf2-a38a-85599004e664",
   "metadata": {},
   "outputs": [],
   "source": [
    "#Mở rộng mảng\n",
    "\n",
    "\n"
   ]
  },
  {
   "cell_type": "code",
   "execution_count": 29,
   "id": "946a0f49-05ba-41c2-83e5-983e34459f95",
   "metadata": {},
   "outputs": [],
   "source": [
    "A = np.random.randint(0, 2, size=(1, 2, 3))\n",
    "B = np.random.randint(0, 2, size=(1, 3))\n"
   ]
  },
  {
   "cell_type": "code",
   "execution_count": 30,
   "id": "d5032211-c723-40b5-8e67-4ceea8794f52",
   "metadata": {},
   "outputs": [
    {
     "name": "stdout",
     "output_type": "stream",
     "text": [
      "B new shape:  (1, 3, 1)\n",
      "A.dot(B) shape:  (1, 2, 1, 1)\n"
     ]
    }
   ],
   "source": [
    "# Mở rộng mảng\n",
    "B = np.expand_dims(B, axis=-1)\n",
    "print(\"B new shape: \", B.shape)\n",
    "print(\"A.dot(B) shape: \", A.dot(B).shape)"
   ]
  },
  {
   "cell_type": "code",
   "execution_count": 31,
   "id": "fe5cd31c-4335-4f7b-a20e-bb7b895fd08e",
   "metadata": {},
   "outputs": [],
   "source": [
    "#Đối số axis=-1 có nghĩa là ta sẽ mở rộng mảng tại chiều cuối cùng"
   ]
  },
  {
   "cell_type": "code",
   "execution_count": null,
   "id": "34e23bf4-b787-42fb-89bf-0b405f249fd6",
   "metadata": {},
   "outputs": [],
   "source": []
  },
  {
   "cell_type": "code",
   "execution_count": 32,
   "id": "7a18950a-7ee4-4fe5-b58b-89ed2935442a",
   "metadata": {},
   "outputs": [],
   "source": [
    "#Các hàm trên numpy\n",
    "\n",
    "\n",
    "B = np.array([[ 0,  1,  2,  3,  4,  5],\n",
    "              [ 6,  7,  8,  9, 10, 11]])"
   ]
  },
  {
   "cell_type": "code",
   "execution_count": 33,
   "id": "f03eea46-2cfd-4cb2-9aa5-3ebee30f4229",
   "metadata": {},
   "outputs": [
    {
     "data": {
      "text/plain": [
       "array([0, 6])"
      ]
     },
     "execution_count": 33,
     "metadata": {},
     "output_type": "execute_result"
    }
   ],
   "source": [
    "# Tìm ra phần tử nhỏ nhất của B theo cột\n",
    "B.min(axis=1)"
   ]
  },
  {
   "cell_type": "code",
   "execution_count": 34,
   "id": "fea254df-33bf-48d3-ab0d-4ae162cbd9f9",
   "metadata": {},
   "outputs": [
    {
     "data": {
      "text/plain": [
       "array([0, 1, 2, 3, 4, 5])"
      ]
     },
     "execution_count": 34,
     "metadata": {},
     "output_type": "execute_result"
    }
   ],
   "source": [
    "# Tìm ra phần tử nhỏ nhất của B theo hàng\n",
    "B.min(axis=0)"
   ]
  },
  {
   "cell_type": "code",
   "execution_count": 35,
   "id": "5532f69c-9b12-4f24-a055-de5a3cfa9065",
   "metadata": {},
   "outputs": [
    {
     "name": "stdout",
     "output_type": "stream",
     "text": [
      "[ 5 11]\n",
      "[2.5 8.5]\n",
      "[15 51]\n"
     ]
    }
   ],
   "source": [
    "print(B.max(axis=1))\n",
    "print(B.mean(axis=1))\n",
    "print(B.sum(axis=1))"
   ]
  },
  {
   "cell_type": "code",
   "execution_count": 36,
   "id": "8073f51d-621b-45b8-b8fc-eb87449468cf",
   "metadata": {},
   "outputs": [
    {
     "data": {
      "text/plain": [
       "array([[ 1,  4,  6],\n",
       "       [ 2,  7, 10]])"
      ]
     },
     "execution_count": 36,
     "metadata": {},
     "output_type": "execute_result"
    }
   ],
   "source": [
    "#minimum, maximum\n",
    "\n",
    "A = np.array([[1, 3, 6], \n",
    "              [2, 7, 9]])\n",
    "\n",
    "B = np.array([[0, 4, 5], \n",
    "              [1, 6, 10]])\n",
    "\n",
    "# Tìm các phần tử maximum của A và B ở cùng vị trí indice\n",
    "np.maximum(A, B)"
   ]
  },
  {
   "cell_type": "code",
   "execution_count": 37,
   "id": "aa4311d3-23cc-48c1-b2c2-a4c336ab4718",
   "metadata": {},
   "outputs": [
    {
     "data": {
      "text/plain": [
       "1"
      ]
     },
     "execution_count": 37,
     "metadata": {},
     "output_type": "execute_result"
    }
   ],
   "source": [
    "#argmax, argmin\n",
    "\n",
    "A = np.array([1, 5, 3, 2, 4])\n",
    "np.argmax(A)"
   ]
  },
  {
   "cell_type": "code",
   "execution_count": 38,
   "id": "d6ad4743-f01e-4c4b-8277-12ea66aa00c3",
   "metadata": {},
   "outputs": [
    {
     "data": {
      "text/plain": [
       "array([1, 1, 0, 0], dtype=int64)"
      ]
     },
     "execution_count": 38,
     "metadata": {},
     "output_type": "execute_result"
    }
   ],
   "source": [
    "# Tìm ra indice có giá trị lớn nhất của các dòng\n",
    "A = np.array([[1, 2],\n",
    "              [3, 4],\n",
    "              [5, 0],\n",
    "              [2, 1]])\n",
    "\n",
    "np.argmax(A, axis=1)"
   ]
  },
  {
   "cell_type": "code",
   "execution_count": 39,
   "id": "edf59714-30b1-4d93-bb1c-238f68925396",
   "metadata": {},
   "outputs": [],
   "source": [
    "#argsort\n",
    "#Hàm argsort là hàm tìm ra indices được sắp xếp theo số thứ tự tăng dần của một mảng hoặc một véc tơ.\n",
    "B = np.array([[0.1, 0.2, 0.7],\n",
    "              [0.6, 0.4, 0.0],\n",
    "              [0.1, 0.5, 0.4],\n",
    "              [0.3, 0.3, 0.4],\n",
    "              [0.1, 0.8, 0.1]])"
   ]
  },
  {
   "cell_type": "code",
   "execution_count": 40,
   "id": "5424ff21-54c7-4f3e-935e-9e4bac45b515",
   "metadata": {},
   "outputs": [
    {
     "data": {
      "text/plain": [
       "array([[0, 0, 1],\n",
       "       [2, 3, 4],\n",
       "       [4, 1, 2],\n",
       "       [3, 2, 3],\n",
       "       [1, 4, 0]], dtype=int64)"
      ]
     },
     "execution_count": 40,
     "metadata": {},
     "output_type": "execute_result"
    }
   ],
   "source": [
    "np.argsort(B, axis = 0)"
   ]
  },
  {
   "cell_type": "code",
   "execution_count": 41,
   "id": "792ca8f7-6bf0-4c8c-87f8-c8153047ea30",
   "metadata": {},
   "outputs": [
    {
     "data": {
      "text/plain": [
       "array([[0, 1, 2],\n",
       "       [2, 1, 0],\n",
       "       [0, 2, 1],\n",
       "       [0, 1, 2],\n",
       "       [0, 2, 1]], dtype=int64)"
      ]
     },
     "execution_count": 41,
     "metadata": {},
     "output_type": "execute_result"
    }
   ],
   "source": [
    "# Tìm ra indice của các dòng theo thứ tự tăng dần\n",
    "\n",
    "np.argsort(B, axis = 1)"
   ]
  },
  {
   "cell_type": "code",
   "execution_count": 42,
   "id": "8a21bd89-ab7a-4cd4-8385-6d5e1442400d",
   "metadata": {},
   "outputs": [
    {
     "data": {
      "text/plain": [
       "array([[1.10517092, 1.22140276, 2.01375271],\n",
       "       [1.8221188 , 1.4918247 , 1.        ],\n",
       "       [1.10517092, 1.64872127, 1.4918247 ],\n",
       "       [1.34985881, 1.34985881, 1.4918247 ],\n",
       "       [1.10517092, 2.22554093, 1.10517092]])"
      ]
     },
     "execution_count": 42,
     "metadata": {},
     "output_type": "execute_result"
    }
   ],
   "source": [
    "#np.exp() và hàm softmax\n",
    "\n",
    "\n",
    "\n",
    "\n",
    "\n",
    "np.exp(B)"
   ]
  },
  {
   "cell_type": "code",
   "execution_count": 43,
   "id": "72844d0e-8d57-4abe-bd9f-da11d0fd85df",
   "metadata": {},
   "outputs": [
    {
     "data": {
      "text/plain": [
       "array([[0.25462853, 0.28140804, 0.46396343],\n",
       "       [0.42237892, 0.34581461, 0.23180647],\n",
       "       [0.26030255, 0.38832577, 0.35137169],\n",
       "       [0.32204346, 0.32204346, 0.35591307],\n",
       "       [0.2491434 , 0.5017132 , 0.2491434 ]])"
      ]
     },
     "execution_count": 43,
     "metadata": {},
     "output_type": "execute_result"
    }
   ],
   "source": [
    "E = np.exp(B)\n",
    "P = []\n",
    "\n",
    "for i in range(E.shape[0]):\n",
    "    Ei = E[i,:]\n",
    "    pi = Ei/np.sum(Ei)\n",
    "    P.append(pi)\n",
    "    \n",
    "P = np.array(P)\n",
    "P"
   ]
  },
  {
   "cell_type": "code",
   "execution_count": 45,
   "id": "c1fb82fa-421b-46d2-82d1-3056f32fa5e8",
   "metadata": {},
   "outputs": [
    {
     "data": {
      "text/plain": [
       "array([0.7, 0.6, 0.5, 0.4, 0.8])"
      ]
     },
     "execution_count": 45,
     "metadata": {},
     "output_type": "execute_result"
    }
   ],
   "source": [
    "#Giữ nguyên shape\n",
    "\n",
    "np.max(B, axis = 1)"
   ]
  },
  {
   "cell_type": "code",
   "execution_count": 46,
   "id": "24848ecd-7eb0-4891-883b-a90cb84815a0",
   "metadata": {},
   "outputs": [
    {
     "data": {
      "text/plain": [
       "array([[0.7],\n",
       "       [0.6],\n",
       "       [0.5],\n",
       "       [0.4],\n",
       "       [0.8]])"
      ]
     },
     "execution_count": 46,
     "metadata": {},
     "output_type": "execute_result"
    }
   ],
   "source": [
    "#Khi sử dụng keepdims=True thì kết quả trả ra sẽ là một ma trận,\n",
    "#chiều bị tiêu giảm sẽ được thay thế bởi kích thước 1.\n",
    "\n",
    "np.max(B, axis = 1, keepdims=True)"
   ]
  },
  {
   "cell_type": "code",
   "execution_count": 47,
   "id": "24c416d5-3454-4b4a-aa93-eff5eea328e0",
   "metadata": {},
   "outputs": [
    {
     "data": {
      "text/plain": [
       "array([66, 92, 98, 17, 83, 57, 86, 97, 96, 47])"
      ]
     },
     "execution_count": 47,
     "metadata": {},
     "output_type": "execute_result"
    }
   ],
   "source": [
    "# seed in python\n",
    "# giữ nguyên các giá trị khởi tạo\n",
    "\n",
    "import numpy as np\n",
    "np.random.seed(123)\n",
    "np.random.randint(0,100,10)"
   ]
  },
  {
   "cell_type": "code",
   "execution_count": 48,
   "id": "c170bd93-d8a5-48b7-a2b5-9002bf2193b1",
   "metadata": {},
   "outputs": [
    {
     "data": {
      "text/plain": [
       "array([66, 92, 98, 17, 83, 57, 86, 97, 96, 47])"
      ]
     },
     "execution_count": 48,
     "metadata": {},
     "output_type": "execute_result"
    }
   ],
   "source": [
    "np.random.seed(123)\n",
    "np.random.randint(0,100,10)"
   ]
  },
  {
   "cell_type": "code",
   "execution_count": null,
   "id": "a363bc73-d846-4911-941b-ff4f1161a152",
   "metadata": {},
   "outputs": [],
   "source": [
    "#Các ma trận đặc biệt\n",
    "\n"
   ]
  },
  {
   "cell_type": "code",
   "execution_count": 49,
   "id": "92c2e767-5a2d-495b-9eee-69cff86a0d8d",
   "metadata": {},
   "outputs": [
    {
     "data": {
      "text/plain": [
       "array([[1., 0., 0., 0., 0.],\n",
       "       [0., 1., 0., 0., 0.],\n",
       "       [0., 0., 1., 0., 0.],\n",
       "       [0., 0., 0., 1., 0.],\n",
       "       [0., 0., 0., 0., 1.]], dtype=float16)"
      ]
     },
     "execution_count": 49,
     "metadata": {},
     "output_type": "execute_result"
    }
   ],
   "source": [
    "# Khởi tạo ma trận đơn vị với shape=5x5\n",
    "I = np.identity(5, dtype=np.float16)\n",
    "I"
   ]
  },
  {
   "cell_type": "code",
   "execution_count": 50,
   "id": "5d867e1a-0f27-456b-9eda-51ae6c7bf02e",
   "metadata": {},
   "outputs": [
    {
     "data": {
      "text/plain": [
       "array([[1., 1., 1.],\n",
       "       [1., 1., 1.],\n",
       "       [1., 1., 1.]], dtype=float32)"
      ]
     },
     "execution_count": 50,
     "metadata": {},
     "output_type": "execute_result"
    }
   ],
   "source": [
    "# Khởi tạo ma trận 1 với kích thước (3, 3)\n",
    "A = np.ones((3, 3), dtype=np.float32)\n",
    "A"
   ]
  },
  {
   "cell_type": "code",
   "execution_count": 51,
   "id": "56426923-471a-4ce1-bfaf-8790a42c815d",
   "metadata": {},
   "outputs": [
    {
     "data": {
      "text/plain": [
       "array([[1., 1., 1.],\n",
       "       [1., 1., 1.]])"
      ]
     },
     "execution_count": 51,
     "metadata": {},
     "output_type": "execute_result"
    }
   ],
   "source": [
    "# Khởi tạo ma trận B ngẫu nhiên kích thước (2, 3)\n",
    "B = np.random.randn(2,3)\n",
    "# Khởi tạo ma trân 1 có kích thước bằng với (2, 3)\n",
    "A = np.ones_like(B)\n",
    "A"
   ]
  },
  {
   "cell_type": "code",
   "execution_count": 52,
   "id": "2b41dd71-ef38-4555-b894-a30288507094",
   "metadata": {},
   "outputs": [
    {
     "data": {
      "text/plain": [
       "array([[0., 0., 0.],\n",
       "       [0., 0., 0.],\n",
       "       [0., 0., 0.]])"
      ]
     },
     "execution_count": 52,
     "metadata": {},
     "output_type": "execute_result"
    }
   ],
   "source": [
    "# Khởi tạo ma trận 0 kích thước (3, 3)\n",
    "np.zeros((3, 3))"
   ]
  },
  {
   "cell_type": "code",
   "execution_count": 53,
   "id": "1867688c-8dce-4411-8fae-6fd983df85b9",
   "metadata": {},
   "outputs": [
    {
     "data": {
      "text/plain": [
       "array([[0., 0., 0.],\n",
       "       [0., 0., 0.]])"
      ]
     },
     "execution_count": 53,
     "metadata": {},
     "output_type": "execute_result"
    }
   ],
   "source": [
    "# Khởi tạo ma trận 0 có kích thước như ma trận B\n",
    "np.zeros_like(B)"
   ]
  },
  {
   "cell_type": "code",
   "execution_count": 54,
   "id": "ce7b130a-eff9-4885-b953-9f7624e42a7d",
   "metadata": {},
   "outputs": [
    {
     "data": {
      "text/plain": [
       "array([[1, 0, 0],\n",
       "       [0, 2, 0],\n",
       "       [0, 0, 3]])"
      ]
     },
     "execution_count": 54,
     "metadata": {},
     "output_type": "execute_result"
    }
   ],
   "source": [
    "np.diag(np.array([1, 2, 3]))"
   ]
  },
  {
   "cell_type": "code",
   "execution_count": 55,
   "id": "6c03961c-4437-4401-8c27-deb05d162367",
   "metadata": {},
   "outputs": [
    {
     "data": {
      "text/plain": [
       "array([1, 5, 9])"
      ]
     },
     "execution_count": 55,
     "metadata": {},
     "output_type": "execute_result"
    }
   ],
   "source": [
    "A = np.array([[1, 2, 3],\n",
    "              [4, 5, 6],\n",
    "              [7, 8 ,9]])\n",
    "\n",
    "# Đường chéo chính của ma trận A\n",
    "np.diag(A)"
   ]
  },
  {
   "cell_type": "code",
   "execution_count": null,
   "id": "f82d3f30-0188-44f2-8b76-770a67b696bc",
   "metadata": {},
   "outputs": [],
   "source": [
    "#Các phép toán trên ma trận\n",
    "\n"
   ]
  },
  {
   "cell_type": "code",
   "execution_count": 56,
   "id": "8857bfa9-73bc-4f24-af75-dd8438fa4213",
   "metadata": {},
   "outputs": [
    {
     "name": "stdout",
     "output_type": "stream",
     "text": [
      "Original matrix: \n",
      " [[1 2 3]\n",
      " [4 5 6]\n",
      " [7 8 9]]\n",
      "Transpose matrix: \n",
      " [[1 4 7]\n",
      " [2 5 8]\n",
      " [3 6 9]]\n"
     ]
    }
   ],
   "source": [
    "print(\"Original matrix: \\n\", A)\n",
    "print(\"Transpose matrix: \\n\", A.T)"
   ]
  },
  {
   "cell_type": "code",
   "execution_count": 57,
   "id": "a67b63ac-c4a4-4ced-b6e2-491f3b417077",
   "metadata": {},
   "outputs": [
    {
     "name": "stdout",
     "output_type": "stream",
     "text": [
      "Inverse A: \n"
     ]
    },
    {
     "data": {
      "text/plain": [
       "array([[-0.24609375,  0.03125   ,  0.23046875],\n",
       "       [ 0.0390625 ,  0.3125    , -0.1953125 ],\n",
       "       [ 0.57421875, -0.40625   ,  0.12890625]])"
      ]
     },
     "execution_count": 57,
     "metadata": {},
     "output_type": "execute_result"
    }
   ],
   "source": [
    "#Ma trận nghịch đảo\n",
    "# Tính ma trận nghịch đảo của A\n",
    "# pinv là pseudo-inverse of a matrix\n",
    "\n",
    "A = np.array([[1, 2.5, 2],\n",
    "              [3, 4.2, 1],\n",
    "              [5, 2.1, 2]])\n",
    "\n",
    "A_inv=np.linalg.pinv(A)\n",
    "\n",
    "print(\"Inverse A: \")\n",
    "A_inv"
   ]
  },
  {
   "cell_type": "code",
   "execution_count": 58,
   "id": "c2e21b2a-2ae7-43b8-8db1-4e24f0258d65",
   "metadata": {},
   "outputs": [
    {
     "data": {
      "text/plain": [
       "array([[ 1.00000000e+00,  4.44089210e-16, -6.10622664e-16],\n",
       "       [ 2.22044605e-16,  1.00000000e+00, -6.10622664e-16],\n",
       "       [-2.22044605e-16, -4.44089210e-16,  1.00000000e+00]])"
      ]
     },
     "execution_count": 58,
     "metadata": {},
     "output_type": "execute_result"
    }
   ],
   "source": [
    "#Tích của ma trận A với ma trận nghịch đảo của nó là một ma trận đơn vị.\n",
    "A.dot(A_inv)"
   ]
  },
  {
   "cell_type": "code",
   "execution_count": null,
   "id": "b5f5fee5-c7d5-473d-807f-bcb0497d5983",
   "metadata": {},
   "outputs": [],
   "source": [
    "#Hạng (rank) của ma trận\n",
    "\n",
    "\n",
    "\n",
    "#Hệ véc tơ độc lập tuyến tính là gì?\n",
    "#Một hệ véc tơ e1,e2,…,en là độc lập tuyến tính nếu phương trình:\n",
    "#k1e1+k2e2+⋯+knen=0\n",
    "#có một nghiệm duy nhất k1=k2=⋯=kn=0\n",
    "\n",
    "#Trái lại, nếu tồn tại một nghiệm mà kj≠0 thì hệ véc tơ là phụ thuộc tuyến tính.\n",
    "\n",
    "#Một hệ véc tơ độc lập truyến tính thì tạo ra một không gian véc tơ. \n",
    "#Khi đó mọi véc tơ khác có thể được biểu diễn dưới dạng tổ hợp tuyến tính của những véc tơ này."
   ]
  },
  {
   "cell_type": "code",
   "execution_count": null,
   "id": "e0ecb195-e392-4838-8764-52544611ed4d",
   "metadata": {},
   "outputs": [],
   "source": [
    "#Hạng của ma trận là gì?\n",
    "#Hạng của ma trận là số lượng các chiều trong không gian véc tơ được sinh ra bởi các cột (hoặc dòng) của ma trận A. \n",
    "#Nó chính bằng số lượng lớn nhất các cột (hoặc dòng) độc lập truyến tính của ma trận A."
   ]
  },
  {
   "cell_type": "code",
   "execution_count": 59,
   "id": "7596afe2-52f1-45eb-8e0b-a9f3b08c593c",
   "metadata": {},
   "outputs": [
    {
     "data": {
      "text/plain": [
       "3"
      ]
     },
     "execution_count": 59,
     "metadata": {},
     "output_type": "execute_result"
    }
   ],
   "source": [
    "np.linalg.matrix_rank(A)"
   ]
  },
  {
   "cell_type": "code",
   "execution_count": 60,
   "id": "1fe1edd3-c345-4cc6-a848-a99f871fc53c",
   "metadata": {},
   "outputs": [
    {
     "data": {
      "text/plain": [
       "-25.6"
      ]
     },
     "execution_count": 60,
     "metadata": {},
     "output_type": "execute_result"
    }
   ],
   "source": [
    "#Định thức\n",
    "\n",
    "\n",
    "# Tính định thức của A\n",
    "np.linalg.det(A)"
   ]
  },
  {
   "cell_type": "code",
   "execution_count": 61,
   "id": "b47c26af-4d7f-481d-8ff1-309fd23b995a",
   "metadata": {},
   "outputs": [
    {
     "name": "stdout",
     "output_type": "stream",
     "text": [
      "matrix A: \n",
      " [[1.  2.5 2. ]\n",
      " [3.  4.2 1. ]\n",
      " [5.  2.1 2. ]]\n",
      "trace of A:  7.2\n"
     ]
    }
   ],
   "source": [
    "#Trace của một ma trận là tổng của các phần tử nằm trên đường chéo chính.\n",
    "\n",
    "print(\"matrix A: \\n\", A)\n",
    "print(\"trace of A: \", np.trace(A))"
   ]
  },
  {
   "cell_type": "code",
   "execution_count": null,
   "id": "14b2f557-9ec4-4821-b5d9-e5889416c4cd",
   "metadata": {},
   "outputs": [],
   "source": []
  },
  {
   "cell_type": "code",
   "execution_count": null,
   "id": "6883ce46-4d01-4e07-8739-a526b5008297",
   "metadata": {},
   "outputs": [],
   "source": [
    "#Chuẩn Frobenious\n",
    "#||AF||=∑i=1m∑j=1na2ij\n",
    "#Tương tự như chuẩn L2 đối với véc tơ.\n",
    "#Chuấn Frobenious của một ma trận bằng căn bậc hai của tổng bình phương các thành phần trong ma trận đó\n",
    "np.linalg.norm(A, ord='fro')"
   ]
  },
  {
   "cell_type": "code",
   "execution_count": null,
   "id": "88a9f9b6-517b-4c4a-b9bc-bfe6da7ec80a",
   "metadata": {},
   "outputs": [],
   "source": [
    "\n",
    "#Các phép cộng, trừ"
   ]
  },
  {
   "cell_type": "code",
   "execution_count": 62,
   "id": "213c2aea-86f3-4a65-82e6-fa3ce2b33206",
   "metadata": {},
   "outputs": [
    {
     "data": {
      "text/plain": [
       "array([[ 1,  1, -2],\n",
       "       [ 0, -2, -1],\n",
       "       [ 0,  0, -1]])"
      ]
     },
     "execution_count": 62,
     "metadata": {},
     "output_type": "execute_result"
    }
   ],
   "source": [
    "import numpy as np\n",
    "A = np.array([[1, 4, 2],\n",
    "              [3, 2, 1],\n",
    "              [4, 6, 7]])\n",
    "\n",
    "B = np.array([[0, 3, 4],\n",
    "              [3, 4, 2],\n",
    "              [4, 6, 8]])\n",
    "\n",
    "A - B"
   ]
  },
  {
   "cell_type": "code",
   "execution_count": null,
   "id": "276d01a4-2cde-4d52-b83b-9af0e2382044",
   "metadata": {},
   "outputs": [],
   "source": [
    "#Phép nhân ma trận thông thường"
   ]
  },
  {
   "cell_type": "code",
   "execution_count": 63,
   "id": "357d720f-b035-4d64-904d-fa600eb9824c",
   "metadata": {},
   "outputs": [
    {
     "data": {
      "text/plain": [
       "array([[20, 31],\n",
       "       [10, 23]])"
      ]
     },
     "execution_count": 63,
     "metadata": {},
     "output_type": "execute_result"
    }
   ],
   "source": [
    "import numpy as np\n",
    "A = np.array([[1, 4, 2],\n",
    "              [3, 2, 1]])\n",
    "\n",
    "B = np.array([[0, 3],\n",
    "              [3, 4],\n",
    "              [4, 6]])\n",
    "\n",
    "np.dot(A, B)\n",
    "# Hoặc\n",
    "A.dot(B)\n",
    "# Hoặc\n",
    "A@B"
   ]
  },
  {
   "cell_type": "code",
   "execution_count": null,
   "id": "0af06204-2c8c-4cd7-8713-351da4ce9022",
   "metadata": {},
   "outputs": [],
   "source": [
    "#Tích Hadamard (element-wise product) giữa hai ma trận"
   ]
  },
  {
   "cell_type": "code",
   "execution_count": null,
   "id": "b5e023dd-bfc6-40bc-852b-fce7e1e5da17",
   "metadata": {},
   "outputs": [],
   "source": [
    "#Tích Hadamard giữa hai ma trận A và B có cùng kích thước là một ma trận có cùng kích thước với A và B.\n",
    "#Khi đó mỗi một phần tử của ma trận bằng tích của các phần tử ở cùng vị trí."
   ]
  },
  {
   "cell_type": "code",
   "execution_count": 64,
   "id": "2c27645f-8085-4d9b-a077-6c531c5bb8c4",
   "metadata": {},
   "outputs": [
    {
     "data": {
      "text/plain": [
       "array([[0, 2, 8],\n",
       "       [2, 0, 1]])"
      ]
     },
     "execution_count": 64,
     "metadata": {},
     "output_type": "execute_result"
    }
   ],
   "source": [
    "C = np.array([[2, 1, 2],\n",
    "              [1, 0, 1]])\n",
    "\n",
    "D = np.array([[0, 2, 4],\n",
    "              [2, 3, 1]])\n",
    "\n",
    "C*D"
   ]
  },
  {
   "cell_type": "code",
   "execution_count": 65,
   "id": "490993a4-158c-4a68-9b34-0c5ad9da0d3a",
   "metadata": {},
   "outputs": [
    {
     "data": {
      "text/plain": [
       "array([15, 10])"
      ]
     },
     "execution_count": 65,
     "metadata": {},
     "output_type": "execute_result"
    }
   ],
   "source": [
    "#Nhân ma trận với một véc tơ\n",
    "\n",
    "x = np.array([1, 2, 3])\n",
    "A.dot(x)\n",
    "\n",
    "\n"
   ]
  },
  {
   "cell_type": "code",
   "execution_count": null,
   "id": "fcfda6f6-720c-4483-b233-0035b02fbf68",
   "metadata": {},
   "outputs": [],
   "source": [
    "#Nhân ma trận với một scaler"
   ]
  },
  {
   "cell_type": "code",
   "execution_count": 67,
   "id": "df1eb370-646c-4c52-acf0-502ef2323e4a",
   "metadata": {},
   "outputs": [
    {
     "name": "stdout",
     "output_type": "stream",
     "text": [
      "[[1 4 2]\n",
      " [3 2 1]]\n"
     ]
    },
    {
     "data": {
      "text/plain": [
       "array([[ 5, 20, 10],\n",
       "       [15, 10,  5]])"
      ]
     },
     "execution_count": 67,
     "metadata": {},
     "output_type": "execute_result"
    }
   ],
   "source": [
    "#Khi nhân ma trận với một scaler chúng ta lấy từng phần tử của ma trận đó nhân với scaler.\n",
    "print(A)\n",
    "A*5"
   ]
  },
  {
   "cell_type": "code",
   "execution_count": 68,
   "id": "a5ae9963-e39a-42b0-aad9-1d150ce7dbb3",
   "metadata": {},
   "outputs": [
    {
     "data": {
      "text/plain": [
       "0.954029957691665"
      ]
     },
     "execution_count": 68,
     "metadata": {},
     "output_type": "execute_result"
    }
   ],
   "source": [
    "a = np.array([1, 2, 3])\n",
    "b = np.array([4, 5, 5])\n",
    "# Phép cộng\n",
    "a+b\n",
    "# Tích vô hướng\n",
    "a.dot(b)\n",
    "# Tích có hướng\n",
    "a*b\n",
    "# cosine similarity\n",
    "a.dot(b)/(np.linalg.norm(a)*np.linalg.norm(b))"
   ]
  },
  {
   "cell_type": "code",
   "execution_count": 69,
   "id": "c9264e64-2690-4982-a13b-83916d9eb4f4",
   "metadata": {},
   "outputs": [
    {
     "data": {
      "text/plain": [
       "array([[0.95402996]])"
      ]
     },
     "execution_count": 69,
     "metadata": {},
     "output_type": "execute_result"
    }
   ],
   "source": [
    "# Hoặc cách khác để tính cosine similarity\n",
    "from sklearn.metrics.pairwise import cosine_similarity\n",
    "a = np.array([[1, 2, 3]])\n",
    "b = np.array([[4, 5, 5]])\n",
    "\n",
    "cosine_similarity(a, b)"
   ]
  },
  {
   "cell_type": "code",
   "execution_count": 70,
   "id": "893ec4fa-f936-4052-83c5-ba0f4d42d4cf",
   "metadata": {},
   "outputs": [
    {
     "name": "stdout",
     "output_type": "stream",
     "text": [
      "shape:  (2, 3)\n",
      "number dims:  2\n",
      "dtype:  int32\n",
      "item bytes size:  4\n",
      "bytes size:  24\n"
     ]
    }
   ],
   "source": [
    "#Thành phần của mảng\n",
    "print('shape: ', A.shape)\n",
    "print('number dims: ', A.ndim)\n",
    "print('dtype: ', A.dtype)\n",
    "print('item bytes size: ', A.itemsize)\n",
    "print('bytes size: ', A.nbytes)"
   ]
  },
  {
   "cell_type": "code",
   "execution_count": 71,
   "id": "ac644358-5108-4008-8d7d-6dc1e9b2ff29",
   "metadata": {},
   "outputs": [
    {
     "data": {
      "text/plain": [
       "  C_CONTIGUOUS : True\n",
       "  F_CONTIGUOUS : False\n",
       "  OWNDATA : True\n",
       "  WRITEABLE : True\n",
       "  ALIGNED : True\n",
       "  WRITEBACKIFCOPY : False\n",
       "  UPDATEIFCOPY : False"
      ]
     },
     "execution_count": 71,
     "metadata": {},
     "output_type": "execute_result"
    }
   ],
   "source": [
    "A.flags"
   ]
  },
  {
   "cell_type": "code",
   "execution_count": null,
   "id": "41518983-2dac-4f33-801b-d04514374e92",
   "metadata": {},
   "outputs": [],
   "source": []
  },
  {
   "cell_type": "code",
   "execution_count": null,
   "id": "5e07e010-c2d4-4272-8205-45473432dddf",
   "metadata": {},
   "outputs": [],
   "source": []
  },
  {
   "cell_type": "code",
   "execution_count": null,
   "id": "45d338dc-a449-40bc-8a7c-a2ff6f543b6b",
   "metadata": {},
   "outputs": [],
   "source": []
  }
 ],
 "metadata": {
  "kernelspec": {
   "display_name": "Python 3",
   "language": "python",
   "name": "python3"
  },
  "language_info": {
   "codemirror_mode": {
    "name": "ipython",
    "version": 3
   },
   "file_extension": ".py",
   "mimetype": "text/x-python",
   "name": "python",
   "nbconvert_exporter": "python",
   "pygments_lexer": "ipython3",
   "version": "3.8.8"
  }
 },
 "nbformat": 4,
 "nbformat_minor": 5
}
