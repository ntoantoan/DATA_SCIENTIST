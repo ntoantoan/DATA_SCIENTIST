{
 "cells": [
  {
   "cell_type": "code",
   "execution_count": null,
   "id": "00248622-332e-450d-be07-e6dd3398f375",
   "metadata": {},
   "outputs": [],
   "source": [
    "#sqlalchemy\n",
    "#Đây là một pakage cho phép chúng ta kết nối và truy vấn trên những dữ liệu SQL một cách trực tiếp theo mô hình server-client side\n",
    "\n",
    "#Tên server là gì?\n",
    "#Tên database trong server cần truy vấn.\n",
    "#port: Cổng kết nối, thường mặc định của MSSQL là 1443.\n",
    "#username: Tên user.\n",
    "#password: Mật khẩu truy cập."
   ]
  },
  {
   "cell_type": "code",
   "execution_count": null,
   "id": "67fd50c6-5d5e-408d-8b3c-e108928832f7",
   "metadata": {},
   "outputs": [],
   "source": [
    "%%script echo skipping\n",
    "\n",
    "from sqlalchemy import create_engine, MetaData, Table, select, engine\n",
    "# Create parameters\n",
    "TableName = 'WorkOrder'\n",
    "\n",
    "DB = {\n",
    "    'drivername': 'mssql+pyodbc',\n",
    "    'servername': 'LAPTOPTCC-PC',\n",
    "    #'port': '1443',\n",
    "    #'username': '',\n",
    "    #'password': '',\n",
    "    'database': 'TestDB',\n",
    "    'driver': 'SQL Server Native Client 11.0',\n",
    "    'trusted_connection': 'yes',\n",
    "    'legacy_schema_aliasing': False\n",
    "}\n",
    "\n",
    "# Create the connection\n",
    "engine = create_engine(DB['drivername'] + '://' + DB['servername'] + '/' + DB['database'] + '?' + 'driver=' + DB['driver'] \n",
    "+ ';' + 'trusted_connection=' + DB['trusted_connection'], legacy_schema_aliasing=DB['legacy_schema_aliasing'])\n",
    "\n",
    "conn = engine.connect()\n",
    "\n",
    "# Required for querying tables\n",
    "metadata = MetaData(conn)\n",
    "\n",
    "#Table to query\n",
    "tbl = Table(TableName, metadata, autoload = True, schema = 'dbo')\n",
    "# tbl.create(checkfirst = True)\n",
    "\n",
    "#select all\n",
    "sql = tbl.select()\n",
    "\n",
    "#run sql code\n",
    "result = conn.execute(sql)\n",
    "\n",
    "df3 = pd.DataFrame(data = list(result), columns = result.keys())\n",
    "df3.head()"
   ]
  },
  {
   "cell_type": "code",
   "execution_count": null,
   "id": "d930a3f4-2889-4a57-8b8a-1d68d810a6ab",
   "metadata": {},
   "outputs": [],
   "source": []
  },
  {
   "cell_type": "code",
   "execution_count": null,
   "id": "04c42061-0c01-44c9-af0a-6e49b15afcb4",
   "metadata": {},
   "outputs": [],
   "source": [
    "#Sau khi sử dụng connection thì chúng ta nhớ đóng lại connection để giải phóng memory và port.\n",
    "%%script echo skipping\n",
    "\n",
    "#close connection to free memory\n",
    "conn.close()"
   ]
  },
  {
   "cell_type": "code",
   "execution_count": null,
   "id": "0f6c0094-ef47-42e2-876d-f8a6fa917e6f",
   "metadata": {},
   "outputs": [],
   "source": [
    "#Chúng ta cũng có thể thực thi các lệnh của SQL thông qua engine SQL mà chúng ta đã khởi tạo.\n",
    "#Kết quả sẽ được truy vấn và tính toán trực tiếp từ server trả về như câu lệnh ta yêu cầu.\n",
    "\n",
    "%%script echo skipping\n",
    "#another way, use read_sql_query() function from pandas. This function use directly engine without initialize connection\n",
    "pd.read_sql_query(\"SELECT TOP 5 * FROM WorkOrder\", engine)"
   ]
  },
  {
   "cell_type": "code",
   "execution_count": null,
   "id": "ba46230f-c3eb-49f4-9cb1-3f293de9ed05",
   "metadata": {},
   "outputs": [],
   "source": []
  },
  {
   "cell_type": "code",
   "execution_count": null,
   "id": "8e86f115-cc64-4e7c-be2a-cf1592e36358",
   "metadata": {},
   "outputs": [],
   "source": [
    "#pyodbc\n",
    "\n",
    "#Đây là package được thiết kế riêng để truy vấn trên những hệ cơ sở dữ liệu sử dụng kết nối ODBC của Microsoft.\n",
    "\n",
    "\n",
    "\n",
    "\n",
    "\n",
    "\n",
    "\n",
    "\n"
   ]
  },
  {
   "cell_type": "code",
   "execution_count": null,
   "id": "aedef4c6-a367-4e9d-9a06-6ec643009ae0",
   "metadata": {},
   "outputs": [],
   "source": [
    "%%script echo skipping\n",
    "\n",
    "import pandas.io.sql\n",
    "import pyodbc\n",
    "\n",
    "server = 'LAPTOPTCC-PC'\n",
    "db = 'AdventureWorks'\n",
    "\n",
    "#create connection\n",
    "conn = pyodbc.connect('DRIVER={SQL Server};SERVER=' \n",
    "                      + DB['servername']\n",
    "                      + ';DATABASE=' \n",
    "                      + DB['database'] \n",
    "                      + ';Trusted_Connection=yes')"
   ]
  },
  {
   "cell_type": "code",
   "execution_count": null,
   "id": "38761512-2c67-489b-a8b8-9e866ae87896",
   "metadata": {},
   "outputs": [],
   "source": [
    "#Sau khi khởi tạo kết nối thì ta cũng có thể sử dụng các câu lệnh của SQL như thông thường để truy vấn và tính toán thông tin như bên dưới:\n",
    "%%script echo skipping\n",
    "\n",
    "#query db\n",
    "sql = \"\"\"SELECT * FROM WorkOrder\"\"\"\n",
    "\n",
    "df4 = pandas.io.sql.read_sql(sql, conn)\n",
    "df4.head()"
   ]
  },
  {
   "cell_type": "code",
   "execution_count": null,
   "id": "790b6455-0302-41ad-8a2d-48713d73cfff",
   "metadata": {},
   "outputs": [],
   "source": [
    "#Cursor cho SQL\n",
    "#Cursor là một con trỏ dẫn tới một vùng nhớ mà lưu trữ dữ liệu.\n",
    "#Sử dụng cursor sẽ giúp ta tiết kiệm bộ nhớ vì chúng ta không phải phân bổ bộ nhớ cho dữ liệu ngay mà chỉ sử dụng địa chỉ để trỏ tới dữ liệu.\n",
    "#Cursor được sử dụng phổ biến trong SQL đặc biệt là trong các vòng for.\n",
    "#Trong pyodbc chúng ta sẽ sử dụng cursor() trong vòng for để duyệt qua các dòng như bên dưới\n"
   ]
  },
  {
   "cell_type": "code",
   "execution_count": null,
   "id": "296e81db-cd04-4aca-9bd8-40c3d58115e0",
   "metadata": {},
   "outputs": [],
   "source": [
    "%%script echo skipping\n",
    "\n",
    "import pyodbc\n",
    "\n",
    "con = pyodbc.connect(\"DRIVER={SQL Server};\"\n",
    "                     \"SERVER=LAPTOPTCC-PC;\"\n",
    "                     \"DATASET=AdventureWorksDW2012;\"\n",
    "                     \"Trusted_Connection=yes;\")\n",
    "cursor = con.cursor()\n",
    "\n",
    "cursor.execute(\"SELECT TOP 10 * FROM AdventureWorksDW2012.dbo.DimCustomer\")\n",
    "\n",
    "for row in cursor.fetchall():\n",
    "    print('row = ', row)"
   ]
  },
  {
   "cell_type": "code",
   "execution_count": null,
   "id": "fb8986ac-f712-4913-8025-dd96859a5fd5",
   "metadata": {},
   "outputs": [],
   "source": []
  }
 ],
 "metadata": {
  "kernelspec": {
   "display_name": "Python 3",
   "language": "python",
   "name": "python3"
  },
  "language_info": {
   "codemirror_mode": {
    "name": "ipython",
    "version": 3
   },
   "file_extension": ".py",
   "mimetype": "text/x-python",
   "name": "python",
   "nbconvert_exporter": "python",
   "pygments_lexer": "ipython3",
   "version": "3.8.8"
  }
 },
 "nbformat": 4,
 "nbformat_minor": 5
}
