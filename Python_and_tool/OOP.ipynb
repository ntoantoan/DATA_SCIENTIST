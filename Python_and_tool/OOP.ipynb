{
 "cells": [
  {
   "cell_type": "code",
   "execution_count": 1,
   "id": "0eee0a27-f707-404c-bae9-935e5d280053",
   "metadata": {},
   "outputs": [
    {
     "name": "stdout",
     "output_type": "stream",
     "text": [
      "True\n"
     ]
    }
   ],
   "source": [
    "#Khởi tạo class\n",
    "\n",
    "class User:\n",
    "    pass\n",
    "\n",
    "user = User()\n",
    "print(type(user)==User)"
   ]
  },
  {
   "cell_type": "code",
   "execution_count": 5,
   "id": "e03081a8-45c1-48be-b13b-4ef6d0a4092f",
   "metadata": {},
   "outputs": [],
   "source": [
    "class User:\n",
    "    def __init__(self, name, age, gender, occupation):\n",
    "        self.name = name\n",
    "        self.age = age\n",
    "        self.gender = gender\n",
    "        self.occupation = occupation\n",
    "        \n",
    "    "
   ]
  },
  {
   "cell_type": "code",
   "execution_count": null,
   "id": "b966949a-5bf7-4545-908e-dda4726ed076",
   "metadata": {},
   "outputs": [],
   "source": [
    "#Nhờ từ khoá self mà chúng ta có thể truy cập được vào các thuộc tính của class User thông qua self.name, self.age, self.gender, self.occupation \n",
    "#và gán cho nó bằng giá trị của đối số của hàm tạo thông qua nhóm câu lệnh:\n",
    "self.name = name\n",
    "self.age = age\n",
    "self.gender = gender\n",
    "self.occupation = occupation"
   ]
  },
  {
   "cell_type": "code",
   "execution_count": 6,
   "id": "d34e860d-999f-40bd-9790-cad0499ca42f",
   "metadata": {},
   "outputs": [
    {
     "name": "stdout",
     "output_type": "stream",
     "text": [
      "Mguyen Dinh Toan 22 male AI Engineer\n"
     ]
    }
   ],
   "source": [
    "user = User(name='Mguyen Dinh Toan', age=22, gender='male', occupation='AI Engineer')\n",
    "print(user.name, user.age, user.gender, user.occupation)"
   ]
  },
  {
   "cell_type": "code",
   "execution_count": null,
   "id": "96d345e9-67c6-46f4-ada9-a4c3b54ead29",
   "metadata": {},
   "outputs": [],
   "source": [
    "#Như vậy các thuộc tính của class User có thể thay đổi theo giá trị của đối số được truyền vào hàm tạo.\n",
    "#Ngoài ra chúng ta còn có những thuộc tính không thay đổi của class. \n",
    "#Những thuộc tính bất biến này có thể được khởi tạo bên ngoài hàm tạo."
   ]
  },
  {
   "cell_type": "code",
   "execution_count": 7,
   "id": "31d060be-eed3-470a-b081-9cc41b0721dc",
   "metadata": {},
   "outputs": [
    {
     "name": "stdout",
     "output_type": "stream",
     "text": [
      "VietNam Nguyen Dinh Toan 22 male AI Engineer\n"
     ]
    }
   ],
   "source": [
    "class User:\n",
    "    nation = 'VietNam'\n",
    "    def __init__(self, name, age, gender, occupation):\n",
    "        self.name = name\n",
    "        self.age = age\n",
    "        self.gender = gender\n",
    "        self.occupation = occupation\n",
    "        \n",
    "user = User(name = 'Nguyen Dinh Toan', age = 22, gender = 'male', occupation = 'AI Engineer')\n",
    "print(user.nation,user.name,user.age, user.gender,user.occupation)"
   ]
  },
  {
   "cell_type": "code",
   "execution_count": 9,
   "id": "3607f92e-8543-4635-878f-9a62782b9b80",
   "metadata": {},
   "outputs": [
    {
     "data": {
      "text/plain": [
       "False"
      ]
     },
     "execution_count": 9,
     "metadata": {},
     "output_type": "execute_result"
    }
   ],
   "source": [
    "#Khởi tạo một object\n",
    "\n",
    "\n",
    "user1 = User(name='Nguyen Dinh Toan', age=22, gender='male', occupation='AI Engineer')\n",
    "user2 = User(name='Nguyen Dinh Toan', age=22, gender='male', occupation='AI Engineer')\n",
    "user1 == user2\n",
    "\n",
    "\n",
    "\n"
   ]
  },
  {
   "cell_type": "code",
   "execution_count": 17,
   "id": "acd017e7-ecc2-4c6a-8b6c-d50933fff066",
   "metadata": {},
   "outputs": [
    {
     "name": "stdout",
     "output_type": "stream",
     "text": [
      "VietNam Nguyen Dinh Toan 22 male AI Engineer\n"
     ]
    }
   ],
   "source": [
    "#Phương thức (method)\n",
    "#Phương thức là những chức năng của đối tượng.\n",
    "\n",
    "class User:\n",
    "    nation = 'VietNam'\n",
    "    def __init__(self, name, age, gender, occupation):\n",
    "        self.name = name\n",
    "        self.age = age\n",
    "        self.gender = gender\n",
    "        self.occupation = occupation\n",
    "    def buy(self, item):\n",
    "        print('you search:{}'.format(item))\n",
    "    def search(self, term):\n",
    "        print('you search: {}'.format(term))\n",
    "\n",
    "    \n",
    "user = User(name='Nguyen Dinh Toan', age=22, gender='male', occupation='AI Engineer')\n",
    "print(user.nation, user.name, user.age, user.gender, user.occupation)\n",
    "        "
   ]
  },
  {
   "cell_type": "code",
   "execution_count": 18,
   "id": "be914611-66ff-4aaa-b8ae-86ca180d6b2c",
   "metadata": {},
   "outputs": [
    {
     "name": "stdout",
     "output_type": "stream",
     "text": [
      "you search:a Book\n",
      "you search: AI Book\n"
     ]
    }
   ],
   "source": [
    "user.buy('a Book')\n",
    "user.search('AI Book')"
   ]
  },
  {
   "cell_type": "code",
   "execution_count": 23,
   "id": "b6a4a60d-2701-42f1-9e08-47b931a23f07",
   "metadata": {},
   "outputs": [
    {
     "name": "stdout",
     "output_type": "stream",
     "text": [
      "VietNam Nguyen Dinh Toan 22 male AI Engineer\n",
      "you search:a book\n",
      "you search: A book\n"
     ]
    }
   ],
   "source": [
    "#Tính kế thừa\n",
    "\n",
    "\n",
    "#Trong di truyền học thì con cái thường kế thừa những đặc điểm của cha mẹ như diện mạo, dọng nói, tính cách,…\n",
    "#Trong lập trình những class con cũng có thể kế thừa lại các thuộc tính và phương thức của các class cha mẹ của chúng.\n",
    "\n",
    "\n",
    "\n",
    "class SpecialUser(User):\n",
    "  pass\n",
    "\n",
    "user = SpecialUser(name = 'Nguyen Dinh Toan', age = 22, gender = 'male', occupation = 'AI Engineer')\n",
    "print(user.nation, user.name, user.age, user.gender, user.occupation)\n",
    "user.buy('a book')\n",
    "user.search('A book')\n",
    "\n",
    "\n",
    "\n",
    "\n",
    "\n"
   ]
  },
  {
   "cell_type": "code",
   "execution_count": 24,
   "id": "64ea2cb5-8a69-4e06-b94a-c4679fb34fff",
   "metadata": {},
   "outputs": [
    {
     "name": "stdout",
     "output_type": "stream",
     "text": [
      "<class '__main__.SpecialUser'>\n"
     ]
    },
    {
     "data": {
      "text/plain": [
       "True"
      ]
     },
     "execution_count": 24,
     "metadata": {},
     "output_type": "execute_result"
    }
   ],
   "source": [
    "#Để kiểm tra xem một object có phải được kế thừa từ một class khác không thì chúng ta dùng câu lệnh isinstance(object, Class).\n",
    "\n",
    "print(type(user))\n",
    "isinstance(user, User)"
   ]
  },
  {
   "cell_type": "code",
   "execution_count": null,
   "id": "c954c86c-3e94-4a6f-a20f-b331556c037d",
   "metadata": {},
   "outputs": [],
   "source": [
    "#Override & Extend\n",
    "\n",
    "\n",
    "\n",
    "\n",
    "#Bên cạnh việc kế thừa thì con cái vẫn có những đặc trưng riêng khác với cha mẹ.\n",
    "#Những đặc trưng riêng này có thể được mở rộng (extend) dưới dạng những phương thức và thuộc tính mới hoặc viết đè (override) lên những phương thức và thuộc tính đã có sẵn từ cha mẹ\n",
    "#Mở rộng có nghĩa rằng phương thức và thuộc tính đó chưa từng có ở cha mẹ.\n",
    "#Trong khi viết đè là việc ta sửa lại những phương thức và thuộc tính mà ở con cái khác với cha mẹ"
   ]
  },
  {
   "cell_type": "code",
   "execution_count": 25,
   "id": "aee02f2b-082e-4ed3-abfb-7a792fbeb1e4",
   "metadata": {},
   "outputs": [
    {
     "name": "stdout",
     "output_type": "stream",
     "text": [
      "You get a voucher valuing 100$\n"
     ]
    }
   ],
   "source": [
    "#Ví dụ về Extend\n",
    "\n",
    "class SpecialUser(User):\n",
    "    def getVoucher(self, value):\n",
    "        print('You get a voucher valuing {}'.format(value))\n",
    "\n",
    "user = SpecialUser(name = 'Nguyen Dinh Toan', age = 22, gender = 'male', occupation='AI Engineer')\n",
    "user.getVoucher('100$')"
   ]
  },
  {
   "cell_type": "code",
   "execution_count": 26,
   "id": "494fe7c1-0242-4530-8dea-cfef0b738476",
   "metadata": {},
   "outputs": [
    {
     "name": "stdout",
     "output_type": "stream",
     "text": [
      "you bought a book with the amount of 100$\n"
     ]
    }
   ],
   "source": [
    "#Ví dụ về Override\n",
    "\n",
    "\n",
    "class SpecialUser(User):\n",
    "  def buy(self, item, amount):\n",
    "    print('you bought {} with the amount of {}'.format(item, amount))\n",
    "    \n",
    "user = SpecialUser(name='Nguyen Dinh Toan', age=22, gender='male', occupation='AI Engineer')\n",
    "user.buy('a book', '100$')"
   ]
  },
  {
   "cell_type": "code",
   "execution_count": 27,
   "id": "b481f767-d886-4ff2-83ad-f43a15f0a286",
   "metadata": {},
   "outputs": [],
   "source": [
    "#Module và package\n",
    "#Ví dụ về module và package\n",
    "\n",
    "#file user.py\n",
    "class User:\n",
    "    nation = 'Vietnam'\n",
    "    def __init__(self, name, age, gender, occupation):\n",
    "        self.name = name\n",
    "        self.age = age\n",
    "        self.gender = gender\n",
    "        self.occupation = occupation\n",
    "        \n",
    "    #cac ham buy, search la nhung ham phuong thuc\n",
    "    \n",
    "    def buy(self, item):\n",
    "        print('you bought{}'.format(item))\n",
    "    def search(self, item):\n",
    "        print('you search:{}'.format(term))"
   ]
  },
  {
   "cell_type": "code",
   "execution_count": 28,
   "id": "7194a948-ec75-4952-a287-5459b626b9a7",
   "metadata": {},
   "outputs": [],
   "source": [
    "#file item.py\n",
    "\n",
    "class Item:\n",
    "    def __init__(self, item_id, item_name, item_price):\n",
    "        self.item_id = item_id\n",
    "        self.item_name = item_name\n",
    "        self.item_price = item_price"
   ]
  },
  {
   "cell_type": "code",
   "execution_count": 31,
   "id": "da96eaa7-4755-4738-8ccf-c157e20eb479",
   "metadata": {},
   "outputs": [],
   "source": [
    "# file order.py\n",
    "\n",
    "from user import User\n",
    "from item import Item\n",
    "\n",
    "class Order:\n",
    "    def __init__(self, user, item, item_quant):\n",
    "        self.user = user\n",
    "        self.item = item\n",
    "        self.item_quant = item_quant\n",
    "    \n",
    "    def cost(self):\n",
    "        value = self.item_quant*self.item.item_price\n",
    "        return value\n",
    "    \n",
    "if __name__ == '__main__':\n",
    "    user = User(name='Nguyen Dinh Toan', age=22, gender='male', occupation='AI Engineer')\n",
    "    item = Item(item_id='123', item_name='keo vuốt tóc', item_price=50.000)\n",
    "    order = Order(user=user, item=item, item_quant=2)\n",
    "    total_cost = order.cost()\n",
    "    print(total_cost)"
   ]
  },
  {
   "cell_type": "code",
   "execution_count": null,
   "id": "98ba35fa-e17e-4a63-8119-4f95e60b8677",
   "metadata": {},
   "outputs": [],
   "source": []
  },
  {
   "cell_type": "code",
   "execution_count": null,
   "id": "f679e4ea-9363-4525-a990-e8505c925a3c",
   "metadata": {},
   "outputs": [],
   "source": []
  },
  {
   "cell_type": "code",
   "execution_count": null,
   "id": "fe8b1221-5d12-45f6-a9b0-ef6c2371c96d",
   "metadata": {},
   "outputs": [],
   "source": []
  },
  {
   "cell_type": "code",
   "execution_count": null,
   "id": "53baac5b-46ca-4055-98f5-5b2f1f659906",
   "metadata": {},
   "outputs": [],
   "source": []
  },
  {
   "cell_type": "code",
   "execution_count": null,
   "id": "b5f1de97-5f3c-456d-97de-b58614dde81f",
   "metadata": {},
   "outputs": [],
   "source": []
  },
  {
   "cell_type": "code",
   "execution_count": null,
   "id": "ea537537-6840-4d68-a519-80f586c49d9d",
   "metadata": {},
   "outputs": [],
   "source": []
  },
  {
   "cell_type": "code",
   "execution_count": null,
   "id": "a17c5d81-193d-4223-8559-a426f1826fbc",
   "metadata": {},
   "outputs": [],
   "source": []
  }
 ],
 "metadata": {
  "kernelspec": {
   "display_name": "Python 3",
   "language": "python",
   "name": "python3"
  },
  "language_info": {
   "codemirror_mode": {
    "name": "ipython",
    "version": 3
   },
   "file_extension": ".py",
   "mimetype": "text/x-python",
   "name": "python",
   "nbconvert_exporter": "python",
   "pygments_lexer": "ipython3",
   "version": "3.8.8"
  }
 },
 "nbformat": 4,
 "nbformat_minor": 5
}
