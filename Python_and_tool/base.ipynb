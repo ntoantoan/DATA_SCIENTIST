{
 "cells": [
  {
   "cell_type": "code",
   "execution_count": 1,
   "id": "3002a232-e9ec-49e7-b61c-e17fe6c73777",
   "metadata": {},
   "outputs": [
    {
     "data": {
      "text/plain": [
       "array([  1, 127,   3], dtype=int8)"
      ]
     },
     "execution_count": 1,
     "metadata": {},
     "output_type": "execute_result"
    }
   ],
   "source": [
    "#Các định dạng số, boolean và ký tự\n",
    "#np.int8 chứa tối đa 2^8 = 256 số nguyên từ -128->127\n",
    "import numpy as np\n",
    "np.array([1,-129,3],dtype = np.int8)"
   ]
  },
  {
   "cell_type": "code",
   "execution_count": 2,
   "id": "c4cbb99b-5087-44e5-87a2-be52c944f9e6",
   "metadata": {},
   "outputs": [
    {
     "name": "stdout",
     "output_type": "stream",
     "text": [
      "<class 'float'>\n",
      "<class 'int'>\n",
      "<class 'bool'>\n",
      "<class 'str'>\n"
     ]
    }
   ],
   "source": [
    "x = 1.234\n",
    "y = 4\n",
    "z = False\n",
    "t = \"Vi mot cong dong AI vung manh hon\"\n",
    "\n",
    "print(type(x))\n",
    "print(type(y))\n",
    "print(type(z))\n",
    "print(type(t))"
   ]
  },
  {
   "cell_type": "code",
   "execution_count": 3,
   "id": "135a604f-f2b4-4ad6-a04c-f490a9fa8a64",
   "metadata": {},
   "outputs": [
    {
     "name": "stdout",
     "output_type": "stream",
     "text": [
      "2.5 0.5 3.0 0.75\n"
     ]
    }
   ],
   "source": [
    "#NUMERICabs\n",
    "x = 1.5\n",
    "add = x+1\n",
    "minus = x-1\n",
    "mul = x*2\n",
    "div = x/2\n",
    "print(add,minus,mul,div)"
   ]
  },
  {
   "cell_type": "code",
   "execution_count": 4,
   "id": "ee5eb83a-7e7e-4932-b733-5306384e4dde",
   "metadata": {},
   "outputs": [
    {
     "name": "stdout",
     "output_type": "stream",
     "text": [
      "2.5\n",
      "0.5\n",
      "3.0\n",
      "0.3\n"
     ]
    }
   ],
   "source": [
    "x=1.5\n",
    "x+=1 # Tương đương x=x+1\n",
    "print(x)\n",
    "x=1.5 \n",
    "x-=1 # Tương đương x=x-1\n",
    "print(x)\n",
    "x=1.5\n",
    "x*=2 # Tương đương x=x*2\n",
    "print(x)\n",
    "x=1.5\n",
    "x/=5 # Tương đương x=x/5\n",
    "print(x)"
   ]
  },
  {
   "cell_type": "code",
   "execution_count": 6,
   "id": "19d6f399-8b93-4298-a9c0-c1a8d8ac025a",
   "metadata": {},
   "outputs": [
    {
     "name": "stdout",
     "output_type": "stream",
     "text": [
      "and:  False False\n",
      "or:  True True\n",
      "x*y:  0\n",
      "x+y:  1\n",
      "x/z:  0.2\n"
     ]
    }
   ],
   "source": [
    "x = True\n",
    "y = False\n",
    "z = 5\n",
    "print('and: ', x&y, x and y)\n",
    "print('or: ', x|y, x or y)\n",
    "print('x*y: ', x*y)\n",
    "print('x+y: ', x+y)\n",
    "print('x/z: ', x/z)"
   ]
  },
  {
   "cell_type": "code",
   "execution_count": 8,
   "id": "97e3ce37-133d-403d-a06c-dd378df7b29c",
   "metadata": {},
   "outputs": [
    {
     "name": "stdout",
     "output_type": "stream",
     "text": [
      "x==y:  False\n",
      "x!=y:  True\n"
     ]
    }
   ],
   "source": [
    "x = 5\n",
    "y = 6\n",
    "print('x==y: ', x==y)\n",
    "print('x!=y: ', x!=y)"
   ]
  },
  {
   "cell_type": "code",
   "execution_count": null,
   "id": "47e458fc-b764-4a4c-8a20-852f5a77bd7e",
   "metadata": {},
   "outputs": [],
   "source": [
    "#SEQUENCE"
   ]
  },
  {
   "cell_type": "code",
   "execution_count": 10,
   "id": "57bf6f0c-42c5-4bd8-8d09-cb25d1e03fa7",
   "metadata": {},
   "outputs": [
    {
     "name": "stdout",
     "output_type": "stream",
     "text": [
      "['math', 'physics', 'chemistry', 199, 299]\n",
      "math\n",
      "physics\n",
      "chemistry\n",
      "199\n",
      "299\n"
     ]
    }
   ],
   "source": [
    "#list là định dạng cho phép lưu trữ nhiều item trong cùng 1 biến. Một list \n",
    "#sẽ có 2 tính chất là iterable và mutable (có thể thay đổi giá trị bên trong)\n",
    "\n",
    "\n",
    "list1 = ['math','physics','chemistry',199,299]\n",
    "print(list1)\n",
    "\n",
    "#duyet list\n",
    "for item in list1:\n",
    "    print(item)"
   ]
  },
  {
   "cell_type": "code",
   "execution_count": 11,
   "id": "f0ae56f1-f430-46c8-a4c5-535d7e174195",
   "metadata": {},
   "outputs": [
    {
     "name": "stdout",
     "output_type": "stream",
     "text": [
      "['hello', 'physics', 'chemistry', 199, 299]\n"
     ]
    }
   ],
   "source": [
    "#cap nhat 1 phan tu trong list\n",
    "\n",
    "list1[0] = 'hello'\n",
    "print(list1)"
   ]
  },
  {
   "cell_type": "code",
   "execution_count": 12,
   "id": "fe7a6a93-6231-49ff-9c8b-9f9799e952eb",
   "metadata": {},
   "outputs": [
    {
     "name": "stdout",
     "output_type": "stream",
     "text": [
      "5\n"
     ]
    }
   ],
   "source": [
    "#do dai\n",
    "print(len(list1))"
   ]
  },
  {
   "cell_type": "code",
   "execution_count": 14,
   "id": "41a38f4b-bf92-40ab-9607-c54279c245bf",
   "metadata": {},
   "outputs": [
    {
     "name": "stdout",
     "output_type": "stream",
     "text": [
      "['a', 'b', 'c', 'd']\n"
     ]
    }
   ],
   "source": [
    "#ghep 2 list\n",
    "list_a = ['a','b']\n",
    "list_b = ['c','d']\n",
    "\n",
    "print(list_a+list_b)"
   ]
  },
  {
   "cell_type": "code",
   "execution_count": 20,
   "id": "2ce9f93c-1422-4596-8b41-1e6b7fd03f69",
   "metadata": {},
   "outputs": [
    {
     "name": "stdout",
     "output_type": "stream",
     "text": [
      "2\n"
     ]
    }
   ],
   "source": [
    "#tim index cua 1 phan tu trong list\n",
    "\n",
    "list_c = ['a','b','c','d','e']\n",
    "print(list_c.index('c'))"
   ]
  },
  {
   "cell_type": "code",
   "execution_count": 21,
   "id": "6fa86730-a9ad-4dbd-a1a2-4ae0fe9db691",
   "metadata": {},
   "outputs": [
    {
     "data": {
      "text/plain": [
       "['a', 'b', 'c', 'd', 'e', 'f']"
      ]
     },
     "execution_count": 21,
     "metadata": {},
     "output_type": "execute_result"
    }
   ],
   "source": [
    "#insert list\n",
    "list_c.insert(5,'f')\n",
    "list_c"
   ]
  },
  {
   "cell_type": "code",
   "execution_count": 23,
   "id": "64f2f330-afbf-4a26-a8a8-b95071789516",
   "metadata": {},
   "outputs": [
    {
     "data": {
      "text/plain": [
       "['a', 'b', 'c', 'd', 'e', 'f']"
      ]
     },
     "execution_count": 23,
     "metadata": {},
     "output_type": "execute_result"
    }
   ],
   "source": [
    "#duyet list\n",
    "[item for item in list_c]"
   ]
  },
  {
   "cell_type": "code",
   "execution_count": 24,
   "id": "6e7254d7-0e55-4aee-b10f-b1a827e0f146",
   "metadata": {},
   "outputs": [
    {
     "name": "stdout",
     "output_type": "stream",
     "text": [
      "physics\n",
      "* From indices 1->3: list1[1:4]\n",
      " ['physics', 'chemistry', 199]\n",
      "* 2 first indices: list1[:2]\n",
      " ['hello', 'physics']\n",
      "* 2 last indices: list1[-2:]\n",
      " [199, 299]\n",
      "* From first to -2 indices (2 orders to touch last): list1[:-2]\n",
      " ['hello', 'physics', 'chemistry']\n",
      "* From second indice to last indice: list1[2:]\n",
      " ['chemistry', 199, 299]\n"
     ]
    }
   ],
   "source": [
    "# Truy cập vào phần tử 1 của list1\n",
    "print(list1[1])\n",
    "\n",
    "# Truy cập vào phần tử có index từ 1->3.\n",
    "print('* From indices 1->3: list1[1:4]\\n', list1[1:4])\n",
    "\n",
    "# Truy cập vào 2 index đầu tiên\n",
    "print('* 2 first indices: list1[:2]\\n', list1[:2])\n",
    "\n",
    "# Truy cập vào 2 index cuối cùng\n",
    "print('* 2 last indices: list1[-2:]\\n', list1[-2:])\n",
    "\n",
    "# Truy cập vào các phần tử từ phần tử đầu tiên tới phần tử liền trước vị trí cuối cùng là hai vị trí.\n",
    "print('* From first to -2 indices (2 orders to touch last): list1[:-2]\\n', list1[:-2])\n",
    "\n",
    "# Truy cập từ index thứ 2 đến index cuối cùng\n",
    "print('* From second indice to last indice: list1[2:]\\n', list1[2:])"
   ]
  },
  {
   "cell_type": "code",
   "execution_count": 25,
   "id": "1898d971-5a40-49e2-8f48-61cb1e28273c",
   "metadata": {},
   "outputs": [
    {
     "data": {
      "text/plain": [
       "['physics', 199]"
      ]
     },
     "execution_count": 25,
     "metadata": {},
     "output_type": "execute_result"
    }
   ],
   "source": [
    "# Truy cập vào vị trí có indice 1 và 3 trong list1\n",
    "\n",
    "[item for (i,item) in enumerate(list1) if i in [1,3]]"
   ]
  },
  {
   "cell_type": "code",
   "execution_count": 28,
   "id": "97029fd1-5c66-4873-8385-d72594faa18b",
   "metadata": {},
   "outputs": [
    {
     "name": "stdout",
     "output_type": "stream",
     "text": [
      "[1, 3, 3, 5, 25]\n",
      "[25, 5, 3, 3, 1]\n"
     ]
    }
   ],
   "source": [
    "#sort list\n",
    "\n",
    "list_ = [1,25,3,3,5]\n",
    "list_.sort()\n",
    "print(list_)\n",
    "\n",
    "#Sort reverse\n",
    "list_.sort(reverse = True)\n",
    "print(list_)"
   ]
  },
  {
   "cell_type": "code",
   "execution_count": 29,
   "id": "f785811a-850a-4b79-9b5f-80c23d790f15",
   "metadata": {},
   "outputs": [
    {
     "name": "stdout",
     "output_type": "stream",
     "text": [
      "* sorted(list5): \n",
      " [1, 2, 4, 5, 7]\n"
     ]
    },
    {
     "data": {
      "text/plain": [
       "[4, 2, 5, 1, 7]"
      ]
     },
     "execution_count": 29,
     "metadata": {},
     "output_type": "execute_result"
    }
   ],
   "source": [
    "#sort by function\n",
    "list5 = [4, 5, 1, 7, 2]\n",
    "print('* sorted(list5): \\n',sorted(list5))\n",
    "\n",
    "sorted(list5, key = lambda x:(x-3)**2)"
   ]
  },
  {
   "cell_type": "code",
   "execution_count": null,
   "id": "6f763972-11ba-4bad-90dd-b56424def76b",
   "metadata": {},
   "outputs": [],
   "source": []
  },
  {
   "cell_type": "code",
   "execution_count": 36,
   "id": "9c1fe6ea-3c90-4281-9526-9f36b012367e",
   "metadata": {},
   "outputs": [
    {
     "name": "stdout",
     "output_type": "stream",
     "text": [
      "('a', 'b', 'c', '2000')\n",
      "a\n",
      "b\n",
      "c\n",
      "2000\n",
      "len tuple: 4\n",
      "tuple concatenate:  ('a', 'b', 'c', '2000', 'x', 'y', 'z')\n"
     ]
    },
    {
     "data": {
      "text/plain": [
       "'a'"
      ]
     },
     "execution_count": 36,
     "metadata": {},
     "output_type": "execute_result"
    }
   ],
   "source": [
    "#TUPLE\n",
    "#Định dạng imutable, khong the sua xoa, cap nhat\n",
    "\n",
    "tuple1 = ('a','b','c','2000')\n",
    "print(tuple1)\n",
    "\n",
    "#duyet\n",
    "for item in tuple1:\n",
    "  print(item)\n",
    "\n",
    "#do dai\n",
    "print(\"len tuple:\",len(tuple1))\n",
    "\n",
    "# Concate 2 tuple\n",
    "tuple2 = ('x', 'y', 'z')\n",
    "tuple_concate = tuple1 + tuple2\n",
    "print('tuple concatenate: ', tuple_concate)\n",
    "\n",
    "# Truy cập vào phần tử đầu tiên\n",
    "tuple1[0]"
   ]
  },
  {
   "cell_type": "code",
   "execution_count": null,
   "id": "7909f3d9-864b-4924-954e-c4298d9421a6",
   "metadata": {},
   "outputs": [],
   "source": []
  },
  {
   "cell_type": "code",
   "execution_count": 39,
   "id": "7fd8797b-b8f4-4370-a4aa-7cbdacc7c3ad",
   "metadata": {},
   "outputs": [
    {
     "name": "stdout",
     "output_type": "stream",
     "text": [
      "name Toan\n",
      "age 22\n",
      "school PTIT\n",
      "love math\n",
      "love update:  girl\n",
      "dict1 length:  4\n",
      "all keys:  dict_keys(['name', 'age', 'school', 'love'])\n",
      "all values:  dict_values(['Toan', '22', 'PTIT', 'girl'])\n",
      "dict after update:  {'name': 'Toan', 'age': '22', 'school': 'PTIT', 'love': 'girl', 'IQ': '145'}\n"
     ]
    }
   ],
   "source": [
    "#Dictionary\n",
    "#Dictionary là định dạng cho phép truy cập các giá trị thông qua một key duy nhất.\n",
    "#key giống như tên gọi và giá trị là thứ được trả về thông qua key.\n",
    "\n",
    "dict1 = {'name':'Toan', 'age':'22', 'school':'PTIT','love':'math'}\n",
    "\n",
    "print('name',dict1['name'])\n",
    "print('age',dict1['age'])\n",
    "print('school',dict1['school'])\n",
    "print('love',dict1['love'])\n",
    "\n",
    "# Cập nhật giá trị một phần tử\n",
    "dict1['love'] = 'girl'\n",
    "print('love update: ', dict1['love'])\n",
    "\n",
    "# Độ dài của dict1\n",
    "print('dict1 length: ', len(dict1))\n",
    "\n",
    "# Truy cập vào toàn bộ các key\n",
    "print('all keys: ', dict1.keys())\n",
    "\n",
    "# Truy cập vào toàn bộ giá trị\n",
    "print('all values: ', dict1.values())\n",
    "\n",
    "# Thêm một phần tử mới cho dict\n",
    "dict1['IQ'] = '145'\n",
    "print('dict after update: ', dict1)"
   ]
  },
  {
   "cell_type": "code",
   "execution_count": 40,
   "id": "01e26b64-aa21-4787-8675-32d765feaf1e",
   "metadata": {},
   "outputs": [
    {
     "data": {
      "text/plain": [
       "{0: [], 1: [], 2: [], 3: []}"
      ]
     },
     "execution_count": 40,
     "metadata": {},
     "output_type": "execute_result"
    }
   ],
   "source": [
    "#Khởi tạo dict\n",
    "dict2 = dict.fromkeys(range(4), [])\n",
    "dict2"
   ]
  },
  {
   "cell_type": "code",
   "execution_count": 41,
   "id": "97b5ac2e-77a4-419f-a760-015c9e3d6911",
   "metadata": {},
   "outputs": [
    {
     "data": {
      "text/plain": [
       "['IQ', 'age', 'love', 'name', 'school']"
      ]
     },
     "execution_count": 41,
     "metadata": {},
     "output_type": "execute_result"
    }
   ],
   "source": [
    "#Sort dict theo key\n",
    "sorted(dict1)"
   ]
  },
  {
   "cell_type": "code",
   "execution_count": 43,
   "id": "39c8a1b2-29b0-4468-9c26-f190f4fc3903",
   "metadata": {},
   "outputs": [
    {
     "data": {
      "text/plain": [
       "['IQ', 'name', 'age', 'love', 'school']"
      ]
     },
     "execution_count": 43,
     "metadata": {},
     "output_type": "execute_result"
    }
   ],
   "source": [
    "# Chỉ sort dict1 theo giá trị cuối của dictionary\n",
    "sorted(dict1, key=lambda x: x[-1:])"
   ]
  },
  {
   "cell_type": "code",
   "execution_count": 42,
   "id": "0dcd188a-d69d-4355-862c-8586004a44ec",
   "metadata": {},
   "outputs": [
    {
     "data": {
      "text/plain": [
       "{'IQ': '145', 'age': '22', 'school': 'PTIT', 'name': 'Toan', 'love': 'girl'}"
      ]
     },
     "execution_count": 42,
     "metadata": {},
     "output_type": "execute_result"
    }
   ],
   "source": [
    "#Sort theo values\n",
    "{k: v for k, v in sorted(dict1.items(), key=lambda item: item[1])}"
   ]
  },
  {
   "cell_type": "code",
   "execution_count": null,
   "id": "0984c2fa-2bfe-424e-8113-8767cbc0c54d",
   "metadata": {},
   "outputs": [],
   "source": []
  },
  {
   "cell_type": "code",
   "execution_count": 45,
   "id": "f8541620-1b27-4bc3-af72-33694939def0",
   "metadata": {},
   "outputs": [
    {
     "name": "stdout",
     "output_type": "stream",
     "text": [
      "set1:  {1, 2, 3, 4, 'alo'}\n",
      "1\n",
      "2\n",
      "3\n",
      "4\n",
      "alo\n",
      "length set1:  5\n",
      "set1 after discard 4:  {1, 2, 3, 'alo'}\n"
     ]
    }
   ],
   "source": [
    "#SET\n",
    "'''\n",
    "Set là một tợp hợp gồm các giá trị duy nhất.\n",
    "Set không cho phép truy cập thông qua index vì nó không được đánh index. \n",
    "các phần tử trong set không thể thay đổi được nhưng set có thể thêm bớt. \n",
    "Để khởi tạo một set thì các phần tử của set cách nhau bởi dấu phảy và bao quanh dấu {}.\n",
    "'''\n",
    "\n",
    "# Khởi tạo một set\n",
    "set1 = set([1, 2, 3, 4, 'alo']) # or {1, 2, 3, 4, 'alo'}\n",
    "print('set1: ', set1)\n",
    "\n",
    "# Truy cập vào các phần tử của set\n",
    "for item in set1:\n",
    "  print(item)\n",
    "\n",
    "# Độ dài của set:\n",
    "print('length set1: ', len(set1))\n",
    "\n",
    "# Xóa 1 phần tử trong set\n",
    "set1.discard(4)\n",
    "print('set1 after discard 4: ', set1)\n",
    "\n"
   ]
  },
  {
   "cell_type": "code",
   "execution_count": 47,
   "id": "eea8206c-6879-4c00-9cdb-03ef7b20fdf9",
   "metadata": {},
   "outputs": [
    {
     "name": "stdout",
     "output_type": "stream",
     "text": [
      "set2:  {8, 1, 3, 5}\n",
      "union set1 and set2:  {1, 2, 3, 5, 8, 'alo'}\n"
     ]
    }
   ],
   "source": [
    "# Hợp 2 set với nhau:\n",
    "set2 = {1, 3, 5, 8}\n",
    "print('set2: ', set2)\n",
    "set_union = set1.union(set2)\n",
    "print('union set1 and set2: ', set_union)"
   ]
  },
  {
   "cell_type": "code",
   "execution_count": 48,
   "id": "5d8d1bb2-4a20-40b8-ab13-c643268a8481",
   "metadata": {},
   "outputs": [
    {
     "name": "stdout",
     "output_type": "stream",
     "text": [
      "intersection set1 and set2: {1, 3}\n"
     ]
    }
   ],
   "source": [
    "# Tìm ra các phần tử chung bằng phép giao:\n",
    "set_intersection = set1.intersection(set2)\n",
    "print('intersection set1 and set2:', set_intersection)"
   ]
  },
  {
   "cell_type": "code",
   "execution_count": 49,
   "id": "37f82190-5b13-4097-ba01-b268b742b04a",
   "metadata": {},
   "outputs": [
    {
     "name": "stdout",
     "output_type": "stream",
     "text": [
      "belong set2 but not set1:  {8, 5}\n"
     ]
    }
   ],
   "source": [
    "# Tìm ra các phần tử thuộc set2 nhưng không thuộc set1\n",
    "print('belong set2 but not set1: ', set2 - set1)"
   ]
  },
  {
   "cell_type": "code",
   "execution_count": 50,
   "id": "24090fbd-a8e5-4f19-911d-2e1109aaac43",
   "metadata": {},
   "outputs": [
    {
     "name": "stdout",
     "output_type": "stream",
     "text": [
      "check set2 belong set1:  False\n",
      "check set1 belong set2:  False\n"
     ]
    }
   ],
   "source": [
    "# Kiểm tra quan hệ giữa 2 set\n",
    "print('check set2 belong set1: ', set1 >= set2)\n",
    "print('check set1 belong set2: ', set1 <= set2)"
   ]
  },
  {
   "cell_type": "code",
   "execution_count": null,
   "id": "43bac9eb-4a1a-4cba-ba3b-e327baf7d276",
   "metadata": {},
   "outputs": [],
   "source": []
  },
  {
   "cell_type": "code",
   "execution_count": null,
   "id": "0a912e29-8c82-4361-8dcb-99ed2ef212ce",
   "metadata": {},
   "outputs": [],
   "source": [
    "#BAI TAP"
   ]
  },
  {
   "cell_type": "code",
   "execution_count": 53,
   "id": "bdb50837-1890-4e93-abd2-9a8b44fb54bb",
   "metadata": {},
   "outputs": [],
   "source": [
    "#BAI1\n",
    "points = {'an': 9, 'binh': 7, 'khanh': 8, 'linh': 10, 'huyen': 6}\n",
    "#1 Hãy sắp xếp dictionary trên theo điểm số tăng dần.\n",
    "#2 Hãy tạo một dictionary có key là điểm số và giá trị là tên."
   ]
  },
  {
   "cell_type": "code",
   "execution_count": 54,
   "id": "b0ddfb0e-3790-4d52-9f95-503bff04b129",
   "metadata": {},
   "outputs": [
    {
     "data": {
      "text/plain": [
       "['an', 'binh', 'huyen', 'khanh', 'linh']"
      ]
     },
     "execution_count": 54,
     "metadata": {},
     "output_type": "execute_result"
    }
   ],
   "source": [
    "pts = sorted(points)\n",
    "pts"
   ]
  },
  {
   "cell_type": "code",
   "execution_count": 55,
   "id": "edb00793-4e6d-4cee-a4b2-531c7f0f6f77",
   "metadata": {},
   "outputs": [
    {
     "data": {
      "text/plain": [
       "['linh', 'khanh', 'huyen', 'binh', 'an']"
      ]
     },
     "execution_count": 55,
     "metadata": {},
     "output_type": "execute_result"
    }
   ],
   "source": [
    "#sap xep giam dan\n",
    "\n",
    "pts_ = sorted(points, reverse=True)\n",
    "pts_"
   ]
  },
  {
   "cell_type": "code",
   "execution_count": 57,
   "id": "1d21824c-3832-4f88-95ab-08fbff640ad6",
   "metadata": {},
   "outputs": [
    {
     "data": {
      "text/plain": [
       "{'linh': 10, 'an': 9, 'khanh': 8, 'binh': 7, 'huyen': 6}"
      ]
     },
     "execution_count": 57,
     "metadata": {},
     "output_type": "execute_result"
    }
   ],
   "source": [
    "#sort by values\n",
    "#{k: v for k, v in sorted(points.items(), key=lambda item: item[1]}\n",
    "{k: v for k, v in sorted(points.items(), key=lambda item: item[1], reverse=True)}"
   ]
  },
  {
   "cell_type": "code",
   "execution_count": 59,
   "id": "3459308d-43b8-418d-b1c7-39bce708c415",
   "metadata": {},
   "outputs": [
    {
     "data": {
      "text/plain": [
       "{'9': 'an', '7': 'binh', '8': 'khanh', '10': 'linh', '6': 'huyen'}"
      ]
     },
     "execution_count": 59,
     "metadata": {},
     "output_type": "execute_result"
    }
   ],
   "source": [
    "p = {'9':'an','7':'binh','8':'khanh','10':'linh','6':'huyen'}\n",
    "p"
   ]
  },
  {
   "cell_type": "code",
   "execution_count": 60,
   "id": "2262460d-a8cc-49a8-8e19-ded9b3042c80",
   "metadata": {},
   "outputs": [],
   "source": [
    "#BAI2 \n",
    "target = ['vi', 'mot', 'cong', 'dong', 'AI', 'vung', 'vung', 'manh', 'manh', 'hon']\n",
    "#Tìm các giá trị duy nhất của list đó.\n",
    "#Đếm số lần lặp lại của mỗi phần tử trong list.\n",
    "#Tạo ra một list mới mà nếu phần tử đó đã xuất hiện trong list rồi thì chỉ lấy duy nhất giá trị bắt gặp đầu tiên."
   ]
  },
  {
   "cell_type": "code",
   "execution_count": 61,
   "id": "742fa727-0880-466e-97ef-996d28969a69",
   "metadata": {},
   "outputs": [
    {
     "name": "stdout",
     "output_type": "stream",
     "text": [
      "{'dong', 'AI', 'cong', 'manh', 'hon', 'mot', 'vi', 'vung'}\n"
     ]
    }
   ],
   "source": [
    "print(set(target))"
   ]
  },
  {
   "cell_type": "code",
   "execution_count": 66,
   "id": "552bf78e-4244-4ab8-aca0-1b9bd036382b",
   "metadata": {},
   "outputs": [
    {
     "data": {
      "text/plain": [
       "[1, 1, 1, 1, 1, 2, 2, 2, 2, 1]"
      ]
     },
     "execution_count": 66,
     "metadata": {},
     "output_type": "execute_result"
    }
   ],
   "source": [
    "[target.count(i) for i in target]"
   ]
  },
  {
   "cell_type": "code",
   "execution_count": 67,
   "id": "3642875f-3388-4267-9da8-587587e132df",
   "metadata": {},
   "outputs": [
    {
     "data": {
      "text/plain": [
       "['vi', 'mot', 'cong', 'dong', 'AI', 'vung', 'manh', 'hon']"
      ]
     },
     "execution_count": 67,
     "metadata": {},
     "output_type": "execute_result"
    }
   ],
   "source": [
    "list_b = []\n",
    "for i in target:\n",
    "    if i not in list_b:\n",
    "        list_b.append(i)\n",
    "list_b"
   ]
  },
  {
   "cell_type": "code",
   "execution_count": null,
   "id": "a2cbfdf0-7910-4334-8e41-74b88623919f",
   "metadata": {},
   "outputs": [],
   "source": []
  },
  {
   "cell_type": "code",
   "execution_count": null,
   "id": "a8bd00b2-873f-4d40-90d1-9112d1a2b5ee",
   "metadata": {},
   "outputs": [],
   "source": []
  }
 ],
 "metadata": {
  "kernelspec": {
   "display_name": "Python 3",
   "language": "python",
   "name": "python3"
  },
  "language_info": {
   "codemirror_mode": {
    "name": "ipython",
    "version": 3
   },
   "file_extension": ".py",
   "mimetype": "text/x-python",
   "name": "python",
   "nbconvert_exporter": "python",
   "pygments_lexer": "ipython3",
   "version": "3.8.8"
  }
 },
 "nbformat": 4,
 "nbformat_minor": 5
}
